{
 "cells": [
  {
   "cell_type": "markdown",
   "id": "6d08596e",
   "metadata": {
    "id": "RWJ0DBW7TcA8",
    "papermill": {
     "duration": 0.013615,
     "end_time": "2025-01-28T09:24:44.969552",
     "exception": false,
     "start_time": "2025-01-28T09:24:44.955937",
     "status": "completed"
    },
    "tags": []
   },
   "source": []
  },
  {
   "cell_type": "markdown",
   "id": "ccd455bd",
   "metadata": {
    "id": "UrNclSqY2dl6",
    "papermill": {
     "duration": 0.013559,
     "end_time": "2025-01-28T09:24:44.995568",
     "exception": false,
     "start_time": "2025-01-28T09:24:44.982009",
     "status": "completed"
    },
    "tags": []
   },
   "source": [
    "# Import Necessary Libraries"
   ]
  },
  {
   "cell_type": "code",
   "execution_count": 1,
   "id": "4b3144e4",
   "metadata": {
    "execution": {
     "iopub.execute_input": "2025-01-28T09:24:45.023448Z",
     "iopub.status.busy": "2025-01-28T09:24:45.022919Z",
     "iopub.status.idle": "2025-01-28T09:24:46.889264Z",
     "shell.execute_reply": "2025-01-28T09:24:46.887855Z"
    },
    "id": "Se_ckDlSXmD6",
    "papermill": {
     "duration": 1.884559,
     "end_time": "2025-01-28T09:24:46.892257",
     "exception": false,
     "start_time": "2025-01-28T09:24:45.007698",
     "status": "completed"
    },
    "tags": []
   },
   "outputs": [],
   "source": [
    "import numpy as np\n",
    "import pandas as pd\n",
    "import matplotlib.pyplot as plt\n",
    "import seaborn as sns\n",
    "from sklearn.metrics import accuracy_score, precision_score, recall_score, f1_score, roc_auc_score\n",
    "from sklearn.model_selection import GridSearchCV, cross_validate, train_test_split\n",
    "from sklearn.preprocessing import LabelEncoder, StandardScaler\n",
    "from sklearn.ensemble import RandomForestClassifier\n",
    "import warnings\n",
    "warnings.simplefilter(action=\"ignore\")\n",
    "pd.set_option('display.max_columns', None)\n",
    "pd.set_option('display.width', None)\n",
    "pd.set_option('display.max_rows', 500)\n",
    "pd.set_option('display.float_format', lambda x: '%.3f' % x)"
   ]
  },
  {
   "cell_type": "markdown",
   "id": "4a8ef2e2",
   "metadata": {
    "id": "k_6eQS6d30qB",
    "papermill": {
     "duration": 0.011947,
     "end_time": "2025-01-28T09:24:46.917650",
     "exception": false,
     "start_time": "2025-01-28T09:24:46.905703",
     "status": "completed"
    },
    "tags": []
   },
   "source": [
    "# Import Dataset"
   ]
  },
  {
   "cell_type": "code",
   "execution_count": 2,
   "id": "54e29028",
   "metadata": {
    "execution": {
     "iopub.execute_input": "2025-01-28T09:24:46.943723Z",
     "iopub.status.busy": "2025-01-28T09:24:46.943133Z",
     "iopub.status.idle": "2025-01-28T09:24:46.983065Z",
     "shell.execute_reply": "2025-01-28T09:24:46.981595Z"
    },
    "id": "KYb_jDWi3t39",
    "outputId": "cf7d2ebd-a621-4156-bf3d-776b68dd4c25",
    "papermill": {
     "duration": 0.056027,
     "end_time": "2025-01-28T09:24:46.985565",
     "exception": false,
     "start_time": "2025-01-28T09:24:46.929538",
     "status": "completed"
    },
    "tags": []
   },
   "outputs": [
    {
     "data": {
      "text/html": [
       "<div>\n",
       "<style scoped>\n",
       "    .dataframe tbody tr th:only-of-type {\n",
       "        vertical-align: middle;\n",
       "    }\n",
       "\n",
       "    .dataframe tbody tr th {\n",
       "        vertical-align: top;\n",
       "    }\n",
       "\n",
       "    .dataframe thead th {\n",
       "        text-align: right;\n",
       "    }\n",
       "</style>\n",
       "<table border=\"1\" class=\"dataframe\">\n",
       "  <thead>\n",
       "    <tr style=\"text-align: right;\">\n",
       "      <th></th>\n",
       "      <th>Pregnancies</th>\n",
       "      <th>Glucose</th>\n",
       "      <th>BloodPressure</th>\n",
       "      <th>SkinThickness</th>\n",
       "      <th>Insulin</th>\n",
       "      <th>BMI</th>\n",
       "      <th>DiabetesPedigreeFunction</th>\n",
       "      <th>Age</th>\n",
       "      <th>Outcome</th>\n",
       "    </tr>\n",
       "  </thead>\n",
       "  <tbody>\n",
       "    <tr>\n",
       "      <th>0</th>\n",
       "      <td>6</td>\n",
       "      <td>148</td>\n",
       "      <td>72</td>\n",
       "      <td>35</td>\n",
       "      <td>0</td>\n",
       "      <td>33.600</td>\n",
       "      <td>0.627</td>\n",
       "      <td>50</td>\n",
       "      <td>1</td>\n",
       "    </tr>\n",
       "    <tr>\n",
       "      <th>1</th>\n",
       "      <td>1</td>\n",
       "      <td>85</td>\n",
       "      <td>66</td>\n",
       "      <td>29</td>\n",
       "      <td>0</td>\n",
       "      <td>26.600</td>\n",
       "      <td>0.351</td>\n",
       "      <td>31</td>\n",
       "      <td>0</td>\n",
       "    </tr>\n",
       "    <tr>\n",
       "      <th>2</th>\n",
       "      <td>8</td>\n",
       "      <td>183</td>\n",
       "      <td>64</td>\n",
       "      <td>0</td>\n",
       "      <td>0</td>\n",
       "      <td>23.300</td>\n",
       "      <td>0.672</td>\n",
       "      <td>32</td>\n",
       "      <td>1</td>\n",
       "    </tr>\n",
       "    <tr>\n",
       "      <th>3</th>\n",
       "      <td>1</td>\n",
       "      <td>89</td>\n",
       "      <td>66</td>\n",
       "      <td>23</td>\n",
       "      <td>94</td>\n",
       "      <td>28.100</td>\n",
       "      <td>0.167</td>\n",
       "      <td>21</td>\n",
       "      <td>0</td>\n",
       "    </tr>\n",
       "    <tr>\n",
       "      <th>4</th>\n",
       "      <td>0</td>\n",
       "      <td>137</td>\n",
       "      <td>40</td>\n",
       "      <td>35</td>\n",
       "      <td>168</td>\n",
       "      <td>43.100</td>\n",
       "      <td>2.288</td>\n",
       "      <td>33</td>\n",
       "      <td>1</td>\n",
       "    </tr>\n",
       "  </tbody>\n",
       "</table>\n",
       "</div>"
      ],
      "text/plain": [
       "   Pregnancies  Glucose  BloodPressure  SkinThickness  Insulin    BMI  \\\n",
       "0            6      148             72             35        0 33.600   \n",
       "1            1       85             66             29        0 26.600   \n",
       "2            8      183             64              0        0 23.300   \n",
       "3            1       89             66             23       94 28.100   \n",
       "4            0      137             40             35      168 43.100   \n",
       "\n",
       "   DiabetesPedigreeFunction  Age  Outcome  \n",
       "0                     0.627   50        1  \n",
       "1                     0.351   31        0  \n",
       "2                     0.672   32        1  \n",
       "3                     0.167   21        0  \n",
       "4                     2.288   33        1  "
      ]
     },
     "execution_count": 2,
     "metadata": {},
     "output_type": "execute_result"
    }
   ],
   "source": [
    "df = pd.read_csv(\"/kaggle/input/pima-indians-diabetes-database/diabetes.csv\")\n",
    "df.head()"
   ]
  },
  {
   "cell_type": "markdown",
   "id": "6f17a73c",
   "metadata": {
    "papermill": {
     "duration": 0.01288,
     "end_time": "2025-01-28T09:24:47.011174",
     "exception": false,
     "start_time": "2025-01-28T09:24:46.998294",
     "status": "completed"
    },
    "tags": []
   },
   "source": [
    "\n",
    "This code loads the Pima Indians Diabetes dataset from a CSV file into a Pandas DataFrame. It then displays the first 5 rows of the dataset to allow for an initial inspection of the data."
   ]
  },
  {
   "cell_type": "markdown",
   "id": "41a123f5",
   "metadata": {
    "id": "JYlzrits4noi",
    "papermill": {
     "duration": 0.012329,
     "end_time": "2025-01-28T09:24:47.036299",
     "exception": false,
     "start_time": "2025-01-28T09:24:47.023970",
     "status": "completed"
    },
    "tags": []
   },
   "source": [
    "# General Information About to the Dataset"
   ]
  },
  {
   "cell_type": "code",
   "execution_count": 3,
   "id": "1b54648e",
   "metadata": {
    "execution": {
     "iopub.execute_input": "2025-01-28T09:24:47.063449Z",
     "iopub.status.busy": "2025-01-28T09:24:47.063018Z",
     "iopub.status.idle": "2025-01-28T09:24:47.071257Z",
     "shell.execute_reply": "2025-01-28T09:24:47.069972Z"
    },
    "id": "J6IpXMsF4DnO",
    "papermill": {
     "duration": 0.025097,
     "end_time": "2025-01-28T09:24:47.073878",
     "exception": false,
     "start_time": "2025-01-28T09:24:47.048781",
     "status": "completed"
    },
    "tags": []
   },
   "outputs": [],
   "source": [
    "def check_df(dataframe,head=5):\n",
    "  print(\"######################### Head #########################\")\n",
    "  print(dataframe.head(head))\n",
    "  print(\"######################### Tail #########################\")\n",
    "  print(dataframe.tail(head))\n",
    "  print(\"######################### Shape #########################\")\n",
    "  print(dataframe.shape)\n",
    "  print(\"######################### Types #########################\")\n",
    "  print(dataframe.dtypes)\n",
    "  print(\"######################### NA #########################\")\n",
    "  print(dataframe.isnull().sum())\n",
    "  print(\"######################### Qurtiles #########################\")\n",
    "  print(dataframe.describe([0, 0.05, 0.50, 0.95, 0.99, 1]).T)"
   ]
  },
  {
   "cell_type": "markdown",
   "id": "ffb912ee",
   "metadata": {
    "papermill": {
     "duration": 0.011871,
     "end_time": "2025-01-28T09:24:47.098001",
     "exception": false,
     "start_time": "2025-01-28T09:24:47.086130",
     "status": "completed"
    },
    "tags": []
   },
   "source": [
    "This will show dataframe head, tail, its shaoe of column and also check sum of null"
   ]
  },
  {
   "cell_type": "code",
   "execution_count": 4,
   "id": "720f4089",
   "metadata": {
    "execution": {
     "iopub.execute_input": "2025-01-28T09:24:47.124373Z",
     "iopub.status.busy": "2025-01-28T09:24:47.123938Z",
     "iopub.status.idle": "2025-01-28T09:24:47.176176Z",
     "shell.execute_reply": "2025-01-28T09:24:47.174857Z"
    },
    "id": "W0Uktwrp4u-w",
    "outputId": "78b57f86-41e1-4385-f4d5-b7d809366ae4",
    "papermill": {
     "duration": 0.068489,
     "end_time": "2025-01-28T09:24:47.178911",
     "exception": false,
     "start_time": "2025-01-28T09:24:47.110422",
     "status": "completed"
    },
    "tags": []
   },
   "outputs": [
    {
     "name": "stdout",
     "output_type": "stream",
     "text": [
      "######################### Head #########################\n",
      "   Pregnancies  Glucose  BloodPressure  SkinThickness  Insulin    BMI  \\\n",
      "0            6      148             72             35        0 33.600   \n",
      "1            1       85             66             29        0 26.600   \n",
      "2            8      183             64              0        0 23.300   \n",
      "3            1       89             66             23       94 28.100   \n",
      "4            0      137             40             35      168 43.100   \n",
      "\n",
      "   DiabetesPedigreeFunction  Age  Outcome  \n",
      "0                     0.627   50        1  \n",
      "1                     0.351   31        0  \n",
      "2                     0.672   32        1  \n",
      "3                     0.167   21        0  \n",
      "4                     2.288   33        1  \n",
      "######################### Tail #########################\n",
      "     Pregnancies  Glucose  BloodPressure  SkinThickness  Insulin    BMI  \\\n",
      "763           10      101             76             48      180 32.900   \n",
      "764            2      122             70             27        0 36.800   \n",
      "765            5      121             72             23      112 26.200   \n",
      "766            1      126             60              0        0 30.100   \n",
      "767            1       93             70             31        0 30.400   \n",
      "\n",
      "     DiabetesPedigreeFunction  Age  Outcome  \n",
      "763                     0.171   63        0  \n",
      "764                     0.340   27        0  \n",
      "765                     0.245   30        0  \n",
      "766                     0.349   47        1  \n",
      "767                     0.315   23        0  \n",
      "######################### Shape #########################\n",
      "(768, 9)\n",
      "######################### Types #########################\n",
      "Pregnancies                   int64\n",
      "Glucose                       int64\n",
      "BloodPressure                 int64\n",
      "SkinThickness                 int64\n",
      "Insulin                       int64\n",
      "BMI                         float64\n",
      "DiabetesPedigreeFunction    float64\n",
      "Age                           int64\n",
      "Outcome                       int64\n",
      "dtype: object\n",
      "######################### NA #########################\n",
      "Pregnancies                 0\n",
      "Glucose                     0\n",
      "BloodPressure               0\n",
      "SkinThickness               0\n",
      "Insulin                     0\n",
      "BMI                         0\n",
      "DiabetesPedigreeFunction    0\n",
      "Age                         0\n",
      "Outcome                     0\n",
      "dtype: int64\n",
      "######################### Qurtiles #########################\n",
      "                           count    mean     std    min     0%     5%     50%  \\\n",
      "Pregnancies              768.000   3.845   3.370  0.000  0.000  0.000   3.000   \n",
      "Glucose                  768.000 120.895  31.973  0.000  0.000 79.000 117.000   \n",
      "BloodPressure            768.000  69.105  19.356  0.000  0.000 38.700  72.000   \n",
      "SkinThickness            768.000  20.536  15.952  0.000  0.000  0.000  23.000   \n",
      "Insulin                  768.000  79.799 115.244  0.000  0.000  0.000  30.500   \n",
      "BMI                      768.000  31.993   7.884  0.000  0.000 21.800  32.000   \n",
      "DiabetesPedigreeFunction 768.000   0.472   0.331  0.078  0.078  0.140   0.372   \n",
      "Age                      768.000  33.241  11.760 21.000 21.000 21.000  29.000   \n",
      "Outcome                  768.000   0.349   0.477  0.000  0.000  0.000   0.000   \n",
      "\n",
      "                             95%     99%    100%     max  \n",
      "Pregnancies               10.000  13.000  17.000  17.000  \n",
      "Glucose                  181.000 196.000 199.000 199.000  \n",
      "BloodPressure             90.000 106.000 122.000 122.000  \n",
      "SkinThickness             44.000  51.330  99.000  99.000  \n",
      "Insulin                  293.000 519.900 846.000 846.000  \n",
      "BMI                       44.395  50.759  67.100  67.100  \n",
      "DiabetesPedigreeFunction   1.133   1.698   2.420   2.420  \n",
      "Age                       58.000  67.000  81.000  81.000  \n",
      "Outcome                    1.000   1.000   1.000   1.000  \n"
     ]
    }
   ],
   "source": [
    "check_df(df)"
   ]
  },
  {
   "cell_type": "markdown",
   "id": "eb4423bd",
   "metadata": {
    "id": "B2-lNzOz49UM",
    "papermill": {
     "duration": 0.013339,
     "end_time": "2025-01-28T09:24:47.205203",
     "exception": false,
     "start_time": "2025-01-28T09:24:47.191864",
     "status": "completed"
    },
    "tags": []
   },
   "source": [
    "# Analysis of Categorical and Numerical Variables"
   ]
  },
  {
   "cell_type": "code",
   "execution_count": 5,
   "id": "94e10e63",
   "metadata": {
    "execution": {
     "iopub.execute_input": "2025-01-28T09:24:47.232284Z",
     "iopub.status.busy": "2025-01-28T09:24:47.231891Z",
     "iopub.status.idle": "2025-01-28T09:24:47.241027Z",
     "shell.execute_reply": "2025-01-28T09:24:47.239804Z"
    },
    "id": "kfSw2sgn4xRD",
    "papermill": {
     "duration": 0.025995,
     "end_time": "2025-01-28T09:24:47.243572",
     "exception": false,
     "start_time": "2025-01-28T09:24:47.217577",
     "status": "completed"
    },
    "tags": []
   },
   "outputs": [],
   "source": [
    "def grab_col_names(dataframe, cat_th=10, car_th=20):\n",
    "  #Catgeorical Variable Selection\n",
    "  cat_cols = [col for col in dataframe.columns if str(dataframe[col].dtypes) in [\"category\",\"object\",\"bool\"]]\n",
    "  num_but_cat = [col for col in dataframe.columns if dataframe[col].nunique() < cat_th and dataframe[col].dtypes in [\"uint8\",\"int64\",\"float64\"]]\n",
    "  cat_but_car = [col for col in dataframe.columns if dataframe[col].nunique() > car_th and str(dataframe[col].dtypes) in [\"category\",\"object\"]]\n",
    "  cat_cols = cat_cols + num_but_cat\n",
    "  cat_cols = [col for col in cat_cols if col not in cat_but_car]\n",
    "\n",
    "  #Numerical Variable Selection\n",
    "  num_cols = [col for col in dataframe.columns if dataframe[col].dtypes in [\"uint8\",\"int64\",\"float64\"]]\n",
    "  num_cols = [col for col in num_cols if col not in cat_cols]\n",
    "\n",
    "  return cat_cols, num_cols, cat_but_car"
   ]
  },
  {
   "cell_type": "code",
   "execution_count": 6,
   "id": "d2cd5bc7",
   "metadata": {
    "execution": {
     "iopub.execute_input": "2025-01-28T09:24:47.273144Z",
     "iopub.status.busy": "2025-01-28T09:24:47.272726Z",
     "iopub.status.idle": "2025-01-28T09:24:47.285489Z",
     "shell.execute_reply": "2025-01-28T09:24:47.284160Z"
    },
    "id": "RJrUoXl0FUBl",
    "outputId": "bd1e0ebb-d873-4597-821b-7bddf1b6b5cf",
    "papermill": {
     "duration": 0.031121,
     "end_time": "2025-01-28T09:24:47.287971",
     "exception": false,
     "start_time": "2025-01-28T09:24:47.256850",
     "status": "completed"
    },
    "tags": []
   },
   "outputs": [
    {
     "name": "stdout",
     "output_type": "stream",
     "text": [
      "Observations: 768\n",
      "Variables: 9\n",
      "Cat_cols: 1\n",
      "Num_cols: 8\n",
      "Cat_but_car: 0\n"
     ]
    }
   ],
   "source": [
    "cat_cols, num_cols, cat_but_car = grab_col_names(df)\n",
    "\n",
    "#Print Categorical and Numerical Variables\n",
    "print(f\"Observations: {df.shape[0]}\")\n",
    "print(f\"Variables: {df.shape[1]}\")\n",
    "print(f\"Cat_cols: {len(cat_cols)}\")\n",
    "print(f\"Num_cols: {len(num_cols)}\")\n",
    "print(f\"Cat_but_car: {len(cat_but_car)}\")"
   ]
  },
  {
   "cell_type": "code",
   "execution_count": 7,
   "id": "67bd65a7",
   "metadata": {
    "execution": {
     "iopub.execute_input": "2025-01-28T09:24:47.316322Z",
     "iopub.status.busy": "2025-01-28T09:24:47.315101Z",
     "iopub.status.idle": "2025-01-28T09:24:47.322698Z",
     "shell.execute_reply": "2025-01-28T09:24:47.321463Z"
    },
    "id": "FehsuTKFFY7U",
    "papermill": {
     "duration": 0.024004,
     "end_time": "2025-01-28T09:24:47.325337",
     "exception": false,
     "start_time": "2025-01-28T09:24:47.301333",
     "status": "completed"
    },
    "tags": []
   },
   "outputs": [],
   "source": [
    "def cat_summary(dataframe,col_name,plot=False):\n",
    "  print(pd.DataFrame({col_name: dataframe[col_name].value_counts(),\n",
    "                      'Ration': 100 * dataframe[col_name].value_counts() / len(dataframe)}))\n",
    "  print(\"##########################################\")\n",
    "  if plot:\n",
    "    sns.countplot(x=dataframe[col_name],data=dataframe)\n",
    "    plt.show(block=True)"
   ]
  },
  {
   "cell_type": "code",
   "execution_count": 8,
   "id": "f2f7f7c9",
   "metadata": {
    "execution": {
     "iopub.execute_input": "2025-01-28T09:24:47.352298Z",
     "iopub.status.busy": "2025-01-28T09:24:47.351874Z",
     "iopub.status.idle": "2025-01-28T09:24:47.357743Z",
     "shell.execute_reply": "2025-01-28T09:24:47.356583Z"
    },
    "id": "yveIXVHNIi9k",
    "papermill": {
     "duration": 0.022692,
     "end_time": "2025-01-28T09:24:47.360397",
     "exception": false,
     "start_time": "2025-01-28T09:24:47.337705",
     "status": "completed"
    },
    "tags": []
   },
   "outputs": [],
   "source": [
    "def cat_summary_df(dataframe):\n",
    "  cat_cols, num_cols, cat_but_car = grab_col_names(df)\n",
    "  for col in cat_cols:\n",
    "    cat_summary(dataframe, col, plot=True)"
   ]
  },
  {
   "cell_type": "code",
   "execution_count": 9,
   "id": "865bc4f0",
   "metadata": {
    "execution": {
     "iopub.execute_input": "2025-01-28T09:24:47.386772Z",
     "iopub.status.busy": "2025-01-28T09:24:47.386399Z",
     "iopub.status.idle": "2025-01-28T09:24:47.599259Z",
     "shell.execute_reply": "2025-01-28T09:24:47.597945Z"
    },
    "id": "_be7C-nXI5kF",
    "outputId": "ea881e96-3e51-4ea0-c031-4b4f7eb587f3",
    "papermill": {
     "duration": 0.228955,
     "end_time": "2025-01-28T09:24:47.601800",
     "exception": false,
     "start_time": "2025-01-28T09:24:47.372845",
     "status": "completed"
    },
    "tags": []
   },
   "outputs": [
    {
     "name": "stdout",
     "output_type": "stream",
     "text": [
      "   Outcome  Ration\n",
      "0      500  65.104\n",
      "1      268  34.896\n",
      "##########################################\n"
     ]
    },
    {
     "data": {
      "image/png": "[encoded data removed]",
      "text/plain": [
       "<Figure size 432x288 with 1 Axes>"
      ]
     },
     "metadata": {
      "needs_background": "light"
     },
     "output_type": "display_data"
    }
   ],
   "source": [
    "cat_summary_df(df)"
   ]
  },
  {
   "cell_type": "code",
   "execution_count": 10,
   "id": "80fe2a20",
   "metadata": {
    "execution": {
     "iopub.execute_input": "2025-01-28T09:24:47.628895Z",
     "iopub.status.busy": "2025-01-28T09:24:47.628407Z",
     "iopub.status.idle": "2025-01-28T09:24:47.635462Z",
     "shell.execute_reply": "2025-01-28T09:24:47.634183Z"
    },
    "id": "9g2k8w6TI9oJ",
    "papermill": {
     "duration": 0.023604,
     "end_time": "2025-01-28T09:24:47.638327",
     "exception": false,
     "start_time": "2025-01-28T09:24:47.614723",
     "status": "completed"
    },
    "tags": []
   },
   "outputs": [],
   "source": [
    "def num_summary(dataframe, num_col, plot=False):\n",
    "  quantiles = [0.01, 0.05, 0.10, 0.20, 0.30, 0.40, 0.50, 0.60, 0.70, 0.80, 0.90, 0.95, 0.99]\n",
    "  print(dataframe[num_col].describe(quantiles).T)\n",
    "\n",
    "  if plot:\n",
    "    dataframe[num_col].hist(bins=20)\n",
    "    plt.xlabel(num_col)\n",
    "    plt.title(num_col)\n",
    "    plt.show(block=True)"
   ]
  },
  {
   "cell_type": "code",
   "execution_count": 11,
   "id": "2e2da525",
   "metadata": {
    "execution": {
     "iopub.execute_input": "2025-01-28T09:24:47.665205Z",
     "iopub.status.busy": "2025-01-28T09:24:47.664717Z",
     "iopub.status.idle": "2025-01-28T09:24:47.670819Z",
     "shell.execute_reply": "2025-01-28T09:24:47.669531Z"
    },
    "id": "Ta3pA3_fKBjm",
    "papermill": {
     "duration": 0.022553,
     "end_time": "2025-01-28T09:24:47.673453",
     "exception": false,
     "start_time": "2025-01-28T09:24:47.650900",
     "status": "completed"
    },
    "tags": []
   },
   "outputs": [],
   "source": [
    "def num_summary_df(dataframe):\n",
    "  cat_cols, num_cols, cat_but_car = grab_col_names(df)\n",
    "  for col in num_cols:\n",
    "    num_summary(dataframe, col, plot=True)"
   ]
  },
  {
   "cell_type": "code",
   "execution_count": 12,
   "id": "b5d144c5",
   "metadata": {
    "execution": {
     "iopub.execute_input": "2025-01-28T09:24:47.700378Z",
     "iopub.status.busy": "2025-01-28T09:24:47.699972Z",
     "iopub.status.idle": "2025-01-28T09:24:49.617706Z",
     "shell.execute_reply": "2025-01-28T09:24:49.616453Z"
    },
    "id": "n4RY_D3ZKPsu",
    "outputId": "dc37154e-e634-4b39-dca4-09390b479adc",
    "papermill": {
     "duration": 1.934372,
     "end_time": "2025-01-28T09:24:49.620399",
     "exception": false,
     "start_time": "2025-01-28T09:24:47.686027",
     "status": "completed"
    },
    "tags": []
   },
   "outputs": [
    {
     "name": "stdout",
     "output_type": "stream",
     "text": [
      "count   768.000\n",
      "mean      3.845\n",
      "std       3.370\n",
      "min       0.000\n",
      "1%        0.000\n",
      "5%        0.000\n",
      "10%       0.000\n",
      "20%       1.000\n",
      "30%       1.000\n",
      "40%       2.000\n",
      "50%       3.000\n",
      "60%       4.000\n",
      "70%       5.000\n",
      "80%       7.000\n",
      "90%       9.000\n",
      "95%      10.000\n",
      "99%      13.000\n",
      "max      17.000\n",
      "Name: Pregnancies, dtype: float64\n"
     ]
    },
    {
     "data": {
      "image/png": "[encoded data removed]",
      "text/plain": [
       "<Figure size 432x288 with 1 Axes>"
      ]
     },
     "metadata": {
      "needs_background": "light"
     },
     "output_type": "display_data"
    },
    {
     "name": "stdout",
     "output_type": "stream",
     "text": [
      "count   768.000\n",
      "mean    120.895\n",
      "std      31.973\n",
      "min       0.000\n",
      "1%       57.000\n",
      "5%       79.000\n",
      "10%      85.000\n",
      "20%      95.000\n",
      "30%     102.000\n",
      "40%     109.000\n",
      "50%     117.000\n",
      "60%     125.000\n",
      "70%     134.000\n",
      "80%     147.000\n",
      "90%     167.000\n",
      "95%     181.000\n",
      "99%     196.000\n",
      "max     199.000\n",
      "Name: Glucose, dtype: float64\n"
     ]
    },
    {
     "data": {
      "image/png": "[encoded data removed]",
      "text/plain": [
       "<Figure size 432x288 with 1 Axes>"
      ]
     },
     "metadata": {
      "needs_background": "light"
     },
     "output_type": "display_data"
    },
    {
     "name": "stdout",
     "output_type": "stream",
     "text": [
      "count   768.000\n",
      "mean     69.105\n",
      "std      19.356\n",
      "min       0.000\n",
      "1%        0.000\n",
      "5%       38.700\n",
      "10%      54.000\n",
      "20%      60.000\n",
      "30%      64.000\n",
      "40%      68.000\n",
      "50%      72.000\n",
      "60%      74.000\n",
      "70%      78.000\n",
      "80%      82.000\n",
      "90%      88.000\n",
      "95%      90.000\n",
      "99%     106.000\n",
      "max     122.000\n",
      "Name: BloodPressure, dtype: float64\n"
     ]
    },
    {
     "data": {
      "image/png": "[encoded data removed]",
      "text/plain": [
       "<Figure size 432x288 with 1 Axes>"
      ]
     },
     "metadata": {
      "needs_background": "light"
     },
     "output_type": "display_data"
    },
    {
     "name": "stdout",
     "output_type": "stream",
     "text": [
      "count   768.000\n",
      "mean     20.536\n",
      "std      15.952\n",
      "min       0.000\n",
      "1%        0.000\n",
      "5%        0.000\n",
      "10%       0.000\n",
      "20%       0.000\n",
      "30%       8.200\n",
      "40%      18.000\n",
      "50%      23.000\n",
      "60%      27.000\n",
      "70%      31.000\n",
      "80%      35.000\n",
      "90%      40.000\n",
      "95%      44.000\n",
      "99%      51.330\n",
      "max      99.000\n",
      "Name: SkinThickness, dtype: float64\n"
     ]
    },
    {
     "data": {
      "image/png": "[encoded data removed]",
      "text/plain": [
       "<Figure size 432x288 with 1 Axes>"
      ]
     },
     "metadata": {
      "needs_background": "light"
     },
     "output_type": "display_data"
    },
    {
     "name": "stdout",
     "output_type": "stream",
     "text": [
      "count   768.000\n",
      "mean     79.799\n",
      "std     115.244\n",
      "min       0.000\n",
      "1%        0.000\n",
      "5%        0.000\n",
      "10%       0.000\n",
      "20%       0.000\n",
      "30%       0.000\n",
      "40%       0.000\n",
      "50%      30.500\n",
      "60%      72.200\n",
      "70%     106.000\n",
      "80%     150.000\n",
      "90%     210.000\n",
      "95%     293.000\n",
      "99%     519.900\n",
      "max     846.000\n",
      "Name: Insulin, dtype: float64\n"
     ]
    },
    {
     "data": {
      "image/png": "[encoded data removed]",
      "text/plain": [
       "<Figure size 432x288 with 1 Axes>"
      ]
     },
     "metadata": {
      "needs_background": "light"
     },
     "output_type": "display_data"
    },
    {
     "name": "stdout",
     "output_type": "stream",
     "text": [
      "count   768.000\n",
      "mean     31.993\n",
      "std       7.884\n",
      "min       0.000\n",
      "1%        0.000\n",
      "5%       21.800\n",
      "10%      23.600\n",
      "20%      25.900\n",
      "30%      28.200\n",
      "40%      30.100\n",
      "50%      32.000\n",
      "60%      33.700\n",
      "70%      35.490\n",
      "80%      37.800\n",
      "90%      41.500\n",
      "95%      44.395\n",
      "99%      50.759\n",
      "max      67.100\n",
      "Name: BMI, dtype: float64\n"
     ]
    },
    {
     "data": {
      "image/png": "[encoded data removed]",
      "text/plain": [
       "<Figure size 432x288 with 1 Axes>"
      ]
     },
     "metadata": {
      "needs_background": "light"
     },
     "output_type": "display_data"
    },
    {
     "name": "stdout",
     "output_type": "stream",
     "text": [
      "count   768.000\n",
      "mean      0.472\n",
      "std       0.331\n",
      "min       0.078\n",
      "1%        0.095\n",
      "5%        0.140\n",
      "10%       0.165\n",
      "20%       0.219\n",
      "30%       0.259\n",
      "40%       0.303\n",
      "50%       0.372\n",
      "60%       0.454\n",
      "70%       0.564\n",
      "80%       0.687\n",
      "90%       0.879\n",
      "95%       1.133\n",
      "99%       1.698\n",
      "max       2.420\n",
      "Name: DiabetesPedigreeFunction, dtype: float64\n"
     ]
    },
    {
     "data": {
      "image/png": "[encoded data removed]",
      "text/plain": [
       "<Figure size 432x288 with 1 Axes>"
      ]
     },
     "metadata": {
      "needs_background": "light"
     },
     "output_type": "display_data"
    },
    {
     "name": "stdout",
     "output_type": "stream",
     "text": [
      "count   768.000\n",
      "mean     33.241\n",
      "std      11.760\n",
      "min      21.000\n",
      "1%       21.000\n",
      "5%       21.000\n",
      "10%      22.000\n",
      "20%      23.000\n",
      "30%      25.000\n",
      "40%      27.000\n",
      "50%      29.000\n",
      "60%      33.000\n",
      "70%      38.000\n",
      "80%      42.600\n",
      "90%      51.000\n",
      "95%      58.000\n",
      "99%      67.000\n",
      "max      81.000\n",
      "Name: Age, dtype: float64\n"
     ]
    },
    {
     "data": {
      "image/png": "[encoded data removed]",
      "text/plain": [
       "<Figure size 432x288 with 1 Axes>"
      ]
     },
     "metadata": {
      "needs_background": "light"
     },
     "output_type": "display_data"
    }
   ],
   "source": [
    "num_summary_df(df)"
   ]
  },
  {
   "cell_type": "code",
   "execution_count": 13,
   "id": "c0be788d",
   "metadata": {
    "execution": {
     "iopub.execute_input": "2025-01-28T09:24:49.652131Z",
     "iopub.status.busy": "2025-01-28T09:24:49.651733Z",
     "iopub.status.idle": "2025-01-28T09:24:49.657866Z",
     "shell.execute_reply": "2025-01-28T09:24:49.656634Z"
    },
    "id": "QbpMHQxqKSHu",
    "papermill": {
     "duration": 0.024895,
     "end_time": "2025-01-28T09:24:49.660373",
     "exception": false,
     "start_time": "2025-01-28T09:24:49.635478",
     "status": "completed"
    },
    "tags": []
   },
   "outputs": [],
   "source": [
    "def target_summary_with_num(dataframe, target, numerical_col):\n",
    "  print(dataframe.groupby(target).agg({numerical_col: \"mean\"}))\n",
    "  print(\"#############################################\")"
   ]
  },
  {
   "cell_type": "code",
   "execution_count": 14,
   "id": "6fec8f7d",
   "metadata": {
    "execution": {
     "iopub.execute_input": "2025-01-28T09:24:49.692118Z",
     "iopub.status.busy": "2025-01-28T09:24:49.691689Z",
     "iopub.status.idle": "2025-01-28T09:24:49.698110Z",
     "shell.execute_reply": "2025-01-28T09:24:49.697027Z"
    },
    "id": "Q-GG7pClOrDU",
    "papermill": {
     "duration": 0.025427,
     "end_time": "2025-01-28T09:24:49.700797",
     "exception": false,
     "start_time": "2025-01-28T09:24:49.675370",
     "status": "completed"
    },
    "tags": []
   },
   "outputs": [],
   "source": [
    "def target_summary_with_num_df(dataframe, target):\n",
    "  cat_cols, num_cols, cat_but_car = grab_col_names(df)\n",
    "  for col in num_cols:\n",
    "    target_summary_with_num(dataframe, target, col)"
   ]
  },
  {
   "cell_type": "code",
   "execution_count": 15,
   "id": "ece79f72",
   "metadata": {
    "execution": {
     "iopub.execute_input": "2025-01-28T09:24:49.732189Z",
     "iopub.status.busy": "2025-01-28T09:24:49.731793Z",
     "iopub.status.idle": "2025-01-28T09:24:49.765032Z",
     "shell.execute_reply": "2025-01-28T09:24:49.763687Z"
    },
    "id": "6hEQzWxDPHNb",
    "outputId": "c9a0ce32-18d0-43ff-dd9f-0bd1b2a5d102",
    "papermill": {
     "duration": 0.052354,
     "end_time": "2025-01-28T09:24:49.767873",
     "exception": false,
     "start_time": "2025-01-28T09:24:49.715519",
     "status": "completed"
    },
    "tags": []
   },
   "outputs": [
    {
     "name": "stdout",
     "output_type": "stream",
     "text": [
      "         Pregnancies\n",
      "Outcome             \n",
      "0              3.298\n",
      "1              4.866\n",
      "#############################################\n",
      "         Glucose\n",
      "Outcome         \n",
      "0        109.980\n",
      "1        141.257\n",
      "#############################################\n",
      "         BloodPressure\n",
      "Outcome               \n",
      "0               68.184\n",
      "1               70.825\n",
      "#############################################\n",
      "         SkinThickness\n",
      "Outcome               \n",
      "0               19.664\n",
      "1               22.164\n",
      "#############################################\n",
      "         Insulin\n",
      "Outcome         \n",
      "0         68.792\n",
      "1        100.336\n",
      "#############################################\n",
      "           BMI\n",
      "Outcome       \n",
      "0       30.304\n",
      "1       35.143\n",
      "#############################################\n",
      "         DiabetesPedigreeFunction\n",
      "Outcome                          \n",
      "0                           0.430\n",
      "1                           0.550\n",
      "#############################################\n",
      "           Age\n",
      "Outcome       \n",
      "0       31.190\n",
      "1       37.067\n",
      "#############################################\n"
     ]
    }
   ],
   "source": [
    "target_summary_with_num_df(df, \"Outcome\")"
   ]
  },
  {
   "cell_type": "markdown",
   "id": "a68f7f82",
   "metadata": {
    "id": "g9I3wcRFPt5Z",
    "papermill": {
     "duration": 0.014922,
     "end_time": "2025-01-28T09:24:49.797801",
     "exception": false,
     "start_time": "2025-01-28T09:24:49.782879",
     "status": "completed"
    },
    "tags": []
   },
   "source": [
    "# Correlation Analysis"
   ]
  },
  {
   "cell_type": "code",
   "execution_count": 16,
   "id": "d2e7cea0",
   "metadata": {
    "execution": {
     "iopub.execute_input": "2025-01-28T09:24:49.830678Z",
     "iopub.status.busy": "2025-01-28T09:24:49.830305Z",
     "iopub.status.idle": "2025-01-28T09:24:49.846094Z",
     "shell.execute_reply": "2025-01-28T09:24:49.844843Z"
    },
    "id": "Lhzgv6PDTrrf",
    "outputId": "fc88de06-4a38-4f01-d5dd-f1bb87ca3102",
    "papermill": {
     "duration": 0.035553,
     "end_time": "2025-01-28T09:24:49.848422",
     "exception": false,
     "start_time": "2025-01-28T09:24:49.812869",
     "status": "completed"
    },
    "tags": []
   },
   "outputs": [
    {
     "data": {
      "text/html": [
       "<div>\n",
       "<style scoped>\n",
       "    .dataframe tbody tr th:only-of-type {\n",
       "        vertical-align: middle;\n",
       "    }\n",
       "\n",
       "    .dataframe tbody tr th {\n",
       "        vertical-align: top;\n",
       "    }\n",
       "\n",
       "    .dataframe thead th {\n",
       "        text-align: right;\n",
       "    }\n",
       "</style>\n",
       "<table border=\"1\" class=\"dataframe\">\n",
       "  <thead>\n",
       "    <tr style=\"text-align: right;\">\n",
       "      <th></th>\n",
       "      <th>Pregnancies</th>\n",
       "      <th>Glucose</th>\n",
       "      <th>BloodPressure</th>\n",
       "      <th>SkinThickness</th>\n",
       "      <th>Insulin</th>\n",
       "      <th>BMI</th>\n",
       "      <th>DiabetesPedigreeFunction</th>\n",
       "      <th>Age</th>\n",
       "      <th>Outcome</th>\n",
       "    </tr>\n",
       "  </thead>\n",
       "  <tbody>\n",
       "    <tr>\n",
       "      <th>Pregnancies</th>\n",
       "      <td>1.000</td>\n",
       "      <td>0.129</td>\n",
       "      <td>0.141</td>\n",
       "      <td>-0.082</td>\n",
       "      <td>-0.074</td>\n",
       "      <td>0.018</td>\n",
       "      <td>-0.034</td>\n",
       "      <td>0.544</td>\n",
       "      <td>0.222</td>\n",
       "    </tr>\n",
       "    <tr>\n",
       "      <th>Glucose</th>\n",
       "      <td>0.129</td>\n",
       "      <td>1.000</td>\n",
       "      <td>0.153</td>\n",
       "      <td>0.057</td>\n",
       "      <td>0.331</td>\n",
       "      <td>0.221</td>\n",
       "      <td>0.137</td>\n",
       "      <td>0.264</td>\n",
       "      <td>0.467</td>\n",
       "    </tr>\n",
       "    <tr>\n",
       "      <th>BloodPressure</th>\n",
       "      <td>0.141</td>\n",
       "      <td>0.153</td>\n",
       "      <td>1.000</td>\n",
       "      <td>0.207</td>\n",
       "      <td>0.089</td>\n",
       "      <td>0.282</td>\n",
       "      <td>0.041</td>\n",
       "      <td>0.240</td>\n",
       "      <td>0.065</td>\n",
       "    </tr>\n",
       "    <tr>\n",
       "      <th>SkinThickness</th>\n",
       "      <td>-0.082</td>\n",
       "      <td>0.057</td>\n",
       "      <td>0.207</td>\n",
       "      <td>1.000</td>\n",
       "      <td>0.437</td>\n",
       "      <td>0.393</td>\n",
       "      <td>0.184</td>\n",
       "      <td>-0.114</td>\n",
       "      <td>0.075</td>\n",
       "    </tr>\n",
       "    <tr>\n",
       "      <th>Insulin</th>\n",
       "      <td>-0.074</td>\n",
       "      <td>0.331</td>\n",
       "      <td>0.089</td>\n",
       "      <td>0.437</td>\n",
       "      <td>1.000</td>\n",
       "      <td>0.198</td>\n",
       "      <td>0.185</td>\n",
       "      <td>-0.042</td>\n",
       "      <td>0.131</td>\n",
       "    </tr>\n",
       "    <tr>\n",
       "      <th>BMI</th>\n",
       "      <td>0.018</td>\n",
       "      <td>0.221</td>\n",
       "      <td>0.282</td>\n",
       "      <td>0.393</td>\n",
       "      <td>0.198</td>\n",
       "      <td>1.000</td>\n",
       "      <td>0.141</td>\n",
       "      <td>0.036</td>\n",
       "      <td>0.293</td>\n",
       "    </tr>\n",
       "    <tr>\n",
       "      <th>DiabetesPedigreeFunction</th>\n",
       "      <td>-0.034</td>\n",
       "      <td>0.137</td>\n",
       "      <td>0.041</td>\n",
       "      <td>0.184</td>\n",
       "      <td>0.185</td>\n",
       "      <td>0.141</td>\n",
       "      <td>1.000</td>\n",
       "      <td>0.034</td>\n",
       "      <td>0.174</td>\n",
       "    </tr>\n",
       "    <tr>\n",
       "      <th>Age</th>\n",
       "      <td>0.544</td>\n",
       "      <td>0.264</td>\n",
       "      <td>0.240</td>\n",
       "      <td>-0.114</td>\n",
       "      <td>-0.042</td>\n",
       "      <td>0.036</td>\n",
       "      <td>0.034</td>\n",
       "      <td>1.000</td>\n",
       "      <td>0.238</td>\n",
       "    </tr>\n",
       "    <tr>\n",
       "      <th>Outcome</th>\n",
       "      <td>0.222</td>\n",
       "      <td>0.467</td>\n",
       "      <td>0.065</td>\n",
       "      <td>0.075</td>\n",
       "      <td>0.131</td>\n",
       "      <td>0.293</td>\n",
       "      <td>0.174</td>\n",
       "      <td>0.238</td>\n",
       "      <td>1.000</td>\n",
       "    </tr>\n",
       "  </tbody>\n",
       "</table>\n",
       "</div>"
      ],
      "text/plain": [
       "                          Pregnancies  Glucose  BloodPressure  SkinThickness  \\\n",
       "Pregnancies                     1.000    0.129          0.141         -0.082   \n",
       "Glucose                         0.129    1.000          0.153          0.057   \n",
       "BloodPressure                   0.141    0.153          1.000          0.207   \n",
       "SkinThickness                  -0.082    0.057          0.207          1.000   \n",
       "Insulin                        -0.074    0.331          0.089          0.437   \n",
       "BMI                             0.018    0.221          0.282          0.393   \n",
       "DiabetesPedigreeFunction       -0.034    0.137          0.041          0.184   \n",
       "Age                             0.544    0.264          0.240         -0.114   \n",
       "Outcome                         0.222    0.467          0.065          0.075   \n",
       "\n",
       "                          Insulin   BMI  DiabetesPedigreeFunction    Age  \\\n",
       "Pregnancies                -0.074 0.018                    -0.034  0.544   \n",
       "Glucose                     0.331 0.221                     0.137  0.264   \n",
       "BloodPressure               0.089 0.282                     0.041  0.240   \n",
       "SkinThickness               0.437 0.393                     0.184 -0.114   \n",
       "Insulin                     1.000 0.198                     0.185 -0.042   \n",
       "BMI                         0.198 1.000                     0.141  0.036   \n",
       "DiabetesPedigreeFunction    0.185 0.141                     1.000  0.034   \n",
       "Age                        -0.042 0.036                     0.034  1.000   \n",
       "Outcome                     0.131 0.293                     0.174  0.238   \n",
       "\n",
       "                          Outcome  \n",
       "Pregnancies                 0.222  \n",
       "Glucose                     0.467  \n",
       "BloodPressure               0.065  \n",
       "SkinThickness               0.075  \n",
       "Insulin                     0.131  \n",
       "BMI                         0.293  \n",
       "DiabetesPedigreeFunction    0.174  \n",
       "Age                         0.238  \n",
       "Outcome                     1.000  "
      ]
     },
     "execution_count": 16,
     "metadata": {},
     "output_type": "execute_result"
    }
   ],
   "source": [
    "df.corr()"
   ]
  },
  {
   "cell_type": "code",
   "execution_count": 17,
   "id": "bbe166ea",
   "metadata": {
    "execution": {
     "iopub.execute_input": "2025-01-28T09:24:49.880787Z",
     "iopub.status.busy": "2025-01-28T09:24:49.880018Z",
     "iopub.status.idle": "2025-01-28T09:24:50.705969Z",
     "shell.execute_reply": "2025-01-28T09:24:50.704262Z"
    },
    "id": "rwVaxDACTvvi",
    "outputId": "c7f56f7c-bd05-439b-a296-60cf770544a8",
    "papermill": {
     "duration": 0.845363,
     "end_time": "2025-01-28T09:24:50.708997",
     "exception": false,
     "start_time": "2025-01-28T09:24:49.863634",
     "status": "completed"
    },
    "tags": []
   },
   "outputs": [
    {
     "data": {
      "image/png": "[encoded data removed]",
      "text/plain": [
       "<Figure size 1296x936 with 2 Axes>"
      ]
     },
     "metadata": {
      "needs_background": "light"
     },
     "output_type": "display_data"
    }
   ],
   "source": [
    "f, ax = plt.subplots(figsize=[18, 13])\n",
    "sns.heatmap(df.corr(), annot=True, fmt=\".2f\", ax=ax, cmap=\"magma\")\n",
    "ax.set_title(\"Correlation Matrix\", fontsize=20)\n",
    "plt.show()"
   ]
  },
  {
   "cell_type": "code",
   "execution_count": 18,
   "id": "d873aa26",
   "metadata": {
    "execution": {
     "iopub.execute_input": "2025-01-28T09:24:50.745804Z",
     "iopub.status.busy": "2025-01-28T09:24:50.745351Z",
     "iopub.status.idle": "2025-01-28T09:24:50.753451Z",
     "shell.execute_reply": "2025-01-28T09:24:50.752110Z"
    },
    "id": "D377ABeDPMH4",
    "papermill": {
     "duration": 0.029691,
     "end_time": "2025-01-28T09:24:50.755856",
     "exception": false,
     "start_time": "2025-01-28T09:24:50.726165",
     "status": "completed"
    },
    "tags": []
   },
   "outputs": [],
   "source": [
    "def high_correlated_cols(dataframe, plot=False, corr_th = 0.90):\n",
    "  corr = dataframe.corr()\n",
    "  corr_matrix = corr.abs()\n",
    "  upper_triangle_matrix = corr_matrix.where(np.triu(np.ones(corr_matrix.shape),k=1).astype(np.bool))\n",
    "  drop_list = [col for col in upper_triangle_matrix.columns if any(upper_triangle_matrix[col] > corr_th)]\n",
    "\n",
    "  if drop_list == []:\n",
    "    print(\"############## After Correlation Analysis, You Don't Need to Remove Variables ##############\")\n",
    "\n",
    "  if plot:\n",
    "    sns.set(rc = {'figure.figsize':(18,13)})\n",
    "    sns.heatmap(corr, cmap=\"RdBu\")\n",
    "    plt.show()\n",
    "  return drop_list"
   ]
  },
  {
   "cell_type": "code",
   "execution_count": 19,
   "id": "ddd0f886",
   "metadata": {
    "execution": {
     "iopub.execute_input": "2025-01-28T09:24:50.790119Z",
     "iopub.status.busy": "2025-01-28T09:24:50.789737Z",
     "iopub.status.idle": "2025-01-28T09:24:51.205344Z",
     "shell.execute_reply": "2025-01-28T09:24:51.204138Z"
    },
    "id": "XVJs7uR2TSlj",
    "outputId": "abac4389-c8b4-4f82-9728-713c31017119",
    "papermill": {
     "duration": 0.435479,
     "end_time": "2025-01-28T09:24:51.207708",
     "exception": false,
     "start_time": "2025-01-28T09:24:50.772229",
     "status": "completed"
    },
    "tags": []
   },
   "outputs": [
    {
     "name": "stdout",
     "output_type": "stream",
     "text": [
      "############## After Correlation Analysis, You Don't Need to Remove Variables ##############\n"
     ]
    },
    {
     "data": {
      "image/png": "[encoded data removed]",
      "text/plain": [
       "<Figure size 1296x936 with 2 Axes>"
      ]
     },
     "metadata": {},
     "output_type": "display_data"
    },
    {
     "data": {
      "text/plain": [
       "[]"
      ]
     },
     "execution_count": 19,
     "metadata": {},
     "output_type": "execute_result"
    }
   ],
   "source": [
    "high_correlated_cols(df, plot=True)"
   ]
  },
  {
   "cell_type": "markdown",
   "id": "fdd41d4b",
   "metadata": {
    "id": "0vAN1OuNV7hb",
    "papermill": {
     "duration": 0.017497,
     "end_time": "2025-01-28T09:24:51.242478",
     "exception": false,
     "start_time": "2025-01-28T09:24:51.224981",
     "status": "completed"
    },
    "tags": []
   },
   "source": [
    "# Base Model Setup\n"
   ]
  },
  {
   "cell_type": "code",
   "execution_count": 20,
   "id": "5e4f7c22",
   "metadata": {
    "execution": {
     "iopub.execute_input": "2025-01-28T09:24:51.281039Z",
     "iopub.status.busy": "2025-01-28T09:24:51.280651Z",
     "iopub.status.idle": "2025-01-28T09:24:58.589493Z",
     "shell.execute_reply": "2025-01-28T09:24:58.587749Z"
    },
    "id": "gygAmKuQTVS9",
    "outputId": "8ec1d9d0-e653-4d45-8bfd-c43e6c34452e",
    "papermill": {
     "duration": 7.33254,
     "end_time": "2025-01-28T09:24:58.592526",
     "exception": false,
     "start_time": "2025-01-28T09:24:51.259986",
     "status": "completed"
    },
    "tags": []
   },
   "outputs": [],
   "source": [
    "import numpy as np\n",
    "import pandas as pd\n",
    "from sklearn.model_selection import train_test_split\n",
    "from sklearn.preprocessing import StandardScaler\n",
    "from sklearn.metrics import accuracy_score, recall_score, precision_score, f1_score, roc_auc_score\n",
    "from keras.models import Sequential\n",
    "from keras.layers import LSTM, Dense\n",
    "from tensorflow.keras.utils import to_categorical\n"
   ]
  },
  {
   "cell_type": "code",
   "execution_count": 21,
   "id": "415bfa4e",
   "metadata": {
    "execution": {
     "iopub.execute_input": "2025-01-28T09:24:58.629190Z",
     "iopub.status.busy": "2025-01-28T09:24:58.628306Z",
     "iopub.status.idle": "2025-01-28T09:25:03.790341Z",
     "shell.execute_reply": "2025-01-28T09:25:03.788806Z"
    },
    "papermill": {
     "duration": 5.183884,
     "end_time": "2025-01-28T09:25:03.793469",
     "exception": false,
     "start_time": "2025-01-28T09:24:58.609585",
     "status": "completed"
    },
    "tags": []
   },
   "outputs": [
    {
     "name": "stdout",
     "output_type": "stream",
     "text": [
      "Epoch 1/10\n",
      "17/17 [==============================] - 3s 5ms/step - loss: 0.6761 - accuracy: 0.6145\n",
      "Epoch 2/10\n",
      "17/17 [==============================] - 0s 4ms/step - loss: 0.6369 - accuracy: 0.7356\n",
      "Epoch 3/10\n",
      "17/17 [==============================] - 0s 4ms/step - loss: 0.5997 - accuracy: 0.7542\n",
      "Epoch 4/10\n",
      "17/17 [==============================] - 0s 4ms/step - loss: 0.5646 - accuracy: 0.7579\n",
      "Epoch 5/10\n",
      "17/17 [==============================] - 0s 4ms/step - loss: 0.5354 - accuracy: 0.7672\n",
      "Epoch 6/10\n",
      "17/17 [==============================] - 0s 4ms/step - loss: 0.5102 - accuracy: 0.7691\n",
      "Epoch 7/10\n",
      "17/17 [==============================] - 0s 4ms/step - loss: 0.4933 - accuracy: 0.7728\n",
      "Epoch 8/10\n",
      "17/17 [==============================] - 0s 5ms/step - loss: 0.4818 - accuracy: 0.7728\n",
      "Epoch 9/10\n",
      "17/17 [==============================] - 0s 4ms/step - loss: 0.4726 - accuracy: 0.7840\n",
      "Epoch 10/10\n",
      "17/17 [==============================] - 0s 4ms/step - loss: 0.4671 - accuracy: 0.7821\n",
      "Accuracy: 0.78\n",
      "Recall: 0.556\n",
      "Precision: 0.75\n",
      "F1: 0.64\n",
      "AUC: 0.84\n"
     ]
    }
   ],
   "source": [
    "import numpy as np\n",
    "import pandas as pd\n",
    "from sklearn.model_selection import train_test_split\n",
    "from sklearn.preprocessing import StandardScaler\n",
    "from sklearn.metrics import (\n",
    "    accuracy_score, \n",
    "    recall_score, \n",
    "    precision_score, \n",
    "    f1_score, \n",
    "    roc_auc_score\n",
    ")\n",
    "from tensorflow.keras.models import Sequential\n",
    "from tensorflow.keras.layers import Bidirectional, LSTM, Dense\n",
    "from tensorflow.keras.utils import to_categorical\n",
    "\n",
    "# Assuming 'df' is your dataset and 'Outcome' is the target column\n",
    "# Replace with your dataset loading logic if needed\n",
    "# df = pd.read_csv('your_dataset.csv')\n",
    "\n",
    "# Splitting the data into features and target\n",
    "y = df[\"Outcome\"]\n",
    "X = df.drop(\"Outcome\", axis=1)\n",
    "\n",
    "# Standardizing the data (important for BiLSTM)\n",
    "scaler = StandardScaler()\n",
    "X_scaled = scaler.fit_transform(X)\n",
    "\n",
    "# Reshaping the data to be 3D: [samples, timesteps, features]\n",
    "X_scaled = np.reshape(X_scaled, (X_scaled.shape[0], 1, X_scaled.shape[1]))  # 1 timestep for each sample\n",
    "\n",
    "# Train-Test Split\n",
    "X_train, X_test, y_train, y_test = train_test_split(X_scaled, y, test_size=0.30, random_state=17)\n",
    "\n",
    "# Convert the labels to categorical (for binary classification in BiLSTM)\n",
    "y_train_cat = to_categorical(y_train)\n",
    "y_test_cat = to_categorical(y_test)\n",
    "\n",
    "# Building the BiLSTM Model\n",
    "model = Sequential()\n",
    "\n",
    "# Adding a BiLSTM layer\n",
    "model.add(Bidirectional(LSTM(units=50, activation='relu'), input_shape=(X_train.shape[1], X_train.shape[2])))\n",
    "\n",
    "# Adding the output layer\n",
    "model.add(Dense(units=2, activation='softmax'))  # Binary classification output\n",
    "\n",
    "# Compiling the model\n",
    "model.compile(optimizer='adam', loss='categorical_crossentropy', metrics=['accuracy'])\n",
    "\n",
    "# Training the model\n",
    "model.fit(X_train, y_train_cat, epochs=10, batch_size=32, verbose=1)\n",
    "\n",
    "# Predicting with the model\n",
    "y_pred_prob = model.predict(X_test)\n",
    "y_pred = np.argmax(y_pred_prob, axis=1)  # Convert probabilities to class labels\n",
    "\n",
    "# Evaluating the model\n",
    "print(f\"Accuracy: {round(accuracy_score(y_pred, y_test), 2)}\")\n",
    "print(f\"Recall: {round(recall_score(y_test, y_pred), 3)}\")  # Fixed y_test and y_pred order\n",
    "print(f\"Precision: {round(precision_score(y_test, y_pred), 2)}\")  # Fixed y_test and y_pred order\n",
    "print(f\"F1: {round(f1_score(y_test, y_pred), 2)}\")\n",
    "print(f\"AUC: {round(roc_auc_score(y_test, y_pred_prob[:, 1]), 2)}\")  # AUC using probabilities for class 1\n"
   ]
  },
  {
   "cell_type": "code",
   "execution_count": null,
   "id": "9e97be22",
   "metadata": {
    "id": "3xMXr8zbYQfH",
    "papermill": {
     "duration": 0.020129,
     "end_time": "2025-01-28T09:25:03.834724",
     "exception": false,
     "start_time": "2025-01-28T09:25:03.814595",
     "status": "completed"
    },
    "tags": []
   },
   "outputs": [],
   "source": []
  },
  {
   "cell_type": "code",
   "execution_count": null,
   "id": "4b8265f7",
   "metadata": {
    "id": "yYXIe4-LYfPV",
    "outputId": "57e0bbc9-a19f-4d72-d095-2a78bcef1338",
    "papermill": {
     "duration": 0.02317,
     "end_time": "2025-01-28T09:25:03.876863",
     "exception": false,
     "start_time": "2025-01-28T09:25:03.853693",
     "status": "completed"
    },
    "tags": []
   },
   "outputs": [],
   "source": []
  },
  {
   "cell_type": "markdown",
   "id": "59d66fe3",
   "metadata": {
    "id": "3LEy6G45Yxv3",
    "papermill": {
     "duration": 0.026023,
     "end_time": "2025-01-28T09:25:03.925871",
     "exception": false,
     "start_time": "2025-01-28T09:25:03.899848",
     "status": "completed"
    },
    "tags": []
   },
   "source": [
    "# Feature Engineering"
   ]
  },
  {
   "cell_type": "markdown",
   "id": "ed7b2982",
   "metadata": {
    "id": "1Fk9vV45Y1eT",
    "papermill": {
     "duration": 0.021515,
     "end_time": "2025-01-28T09:25:03.967045",
     "exception": false,
     "start_time": "2025-01-28T09:25:03.945530",
     "status": "completed"
    },
    "tags": []
   },
   "source": [
    "# Missing Value Analysis\n",
    "\n",
    "**Not:** It is known that a human cannot have variable values 0 other than Pregnancies and Outcome. Therefore, an action decision should be taken regarding these values. Values that are 0 can be assigned NaN."
   ]
  },
  {
   "cell_type": "code",
   "execution_count": 22,
   "id": "d82d9925",
   "metadata": {
    "execution": {
     "iopub.execute_input": "2025-01-28T09:25:04.011589Z",
     "iopub.status.busy": "2025-01-28T09:25:04.011129Z",
     "iopub.status.idle": "2025-01-28T09:25:04.021810Z",
     "shell.execute_reply": "2025-01-28T09:25:04.020491Z"
    },
    "id": "Vh_E6-3ybbMB",
    "outputId": "07af451b-254d-4c65-ef8d-5099d060d399",
    "papermill": {
     "duration": 0.036177,
     "end_time": "2025-01-28T09:25:04.024501",
     "exception": false,
     "start_time": "2025-01-28T09:25:03.988324",
     "status": "completed"
    },
    "tags": []
   },
   "outputs": [
    {
     "data": {
      "text/plain": [
       "Pregnancies                 0\n",
       "Glucose                     0\n",
       "BloodPressure               0\n",
       "SkinThickness               0\n",
       "Insulin                     0\n",
       "BMI                         0\n",
       "DiabetesPedigreeFunction    0\n",
       "Age                         0\n",
       "Outcome                     0\n",
       "dtype: int64"
      ]
     },
     "execution_count": 22,
     "metadata": {},
     "output_type": "execute_result"
    }
   ],
   "source": [
    "df.isnull().sum()"
   ]
  },
  {
   "cell_type": "code",
   "execution_count": 23,
   "id": "d06e4a30",
   "metadata": {
    "execution": {
     "iopub.execute_input": "2025-01-28T09:25:04.066510Z",
     "iopub.status.busy": "2025-01-28T09:25:04.065952Z",
     "iopub.status.idle": "2025-01-28T09:25:04.081483Z",
     "shell.execute_reply": "2025-01-28T09:25:04.079986Z"
    },
    "id": "m1TFn8lTYktu",
    "papermill": {
     "duration": 0.039796,
     "end_time": "2025-01-28T09:25:04.084477",
     "exception": false,
     "start_time": "2025-01-28T09:25:04.044681",
     "status": "completed"
    },
    "tags": []
   },
   "outputs": [],
   "source": [
    "zero_columns = [col for col in df.columns if (df[col].min() == 0 and col not in [\"Pregnancies\", \"Outcome\"])]\n",
    "for col in zero_columns:\n",
    "  df[col] = np.where(df[col]==0, np.nan, df[col])"
   ]
  },
  {
   "cell_type": "code",
   "execution_count": 24,
   "id": "400ec466",
   "metadata": {
    "execution": {
     "iopub.execute_input": "2025-01-28T09:25:04.126637Z",
     "iopub.status.busy": "2025-01-28T09:25:04.125658Z",
     "iopub.status.idle": "2025-01-28T09:25:04.139129Z",
     "shell.execute_reply": "2025-01-28T09:25:04.137780Z"
    },
    "id": "digZUXDkbd8A",
    "outputId": "bfe39166-85c1-49f1-aa72-492881263526",
    "papermill": {
     "duration": 0.037183,
     "end_time": "2025-01-28T09:25:04.141886",
     "exception": false,
     "start_time": "2025-01-28T09:25:04.104703",
     "status": "completed"
    },
    "tags": []
   },
   "outputs": [
    {
     "data": {
      "text/plain": [
       "Pregnancies                   0\n",
       "Glucose                       5\n",
       "BloodPressure                35\n",
       "SkinThickness               227\n",
       "Insulin                     374\n",
       "BMI                          11\n",
       "DiabetesPedigreeFunction      0\n",
       "Age                           0\n",
       "Outcome                       0\n",
       "dtype: int64"
      ]
     },
     "execution_count": 24,
     "metadata": {},
     "output_type": "execute_result"
    }
   ],
   "source": [
    "df.isnull().sum()"
   ]
  },
  {
   "cell_type": "code",
   "execution_count": 25,
   "id": "7c473846",
   "metadata": {
    "execution": {
     "iopub.execute_input": "2025-01-28T09:25:04.185274Z",
     "iopub.status.busy": "2025-01-28T09:25:04.184703Z",
     "iopub.status.idle": "2025-01-28T09:25:04.196541Z",
     "shell.execute_reply": "2025-01-28T09:25:04.195286Z"
    },
    "id": "aKuwTBpmbfVX",
    "papermill": {
     "duration": 0.036653,
     "end_time": "2025-01-28T09:25:04.199254",
     "exception": false,
     "start_time": "2025-01-28T09:25:04.162601",
     "status": "completed"
    },
    "tags": []
   },
   "outputs": [],
   "source": [
    "def missing_value_table(dataframe, na_name=False):\n",
    "  na_columns = [col for col in dataframe.columns if dataframe[col].isnull().sum() > 0]\n",
    "  n_miss = dataframe[na_columns].isnull().sum().sort_values(ascending=False)\n",
    "  ratio = (dataframe[na_columns].isnull().sum() / dataframe.shape[0] * 100).sort_values(ascending=False)\n",
    "  missing_df = pd.concat([n_miss, np.round(ratio, 2)], axis=1, keys=[\"n_miss\",\"ratio\"])\n",
    "  print(missing_df, end=\"\\n\")\n",
    "  if na_name:\n",
    "    return na_columns"
   ]
  },
  {
   "cell_type": "code",
   "execution_count": 26,
   "id": "a0775760",
   "metadata": {
    "execution": {
     "iopub.execute_input": "2025-01-28T09:25:04.245246Z",
     "iopub.status.busy": "2025-01-28T09:25:04.244669Z",
     "iopub.status.idle": "2025-01-28T09:25:04.273384Z",
     "shell.execute_reply": "2025-01-28T09:25:04.270305Z"
    },
    "id": "shqawBXQcOSH",
    "outputId": "f205c1df-1dad-42b7-e825-c30784eeca59",
    "papermill": {
     "duration": 0.056349,
     "end_time": "2025-01-28T09:25:04.277850",
     "exception": false,
     "start_time": "2025-01-28T09:25:04.221501",
     "status": "completed"
    },
    "tags": []
   },
   "outputs": [
    {
     "name": "stdout",
     "output_type": "stream",
     "text": [
      "               n_miss  ratio\n",
      "Insulin           374 48.700\n",
      "SkinThickness     227 29.560\n",
      "BloodPressure      35  4.560\n",
      "BMI                11  1.430\n",
      "Glucose             5  0.650\n"
     ]
    }
   ],
   "source": [
    "na_columns = missing_value_table(df, na_name=True)"
   ]
  },
  {
   "cell_type": "code",
   "execution_count": 27,
   "id": "f981b61f",
   "metadata": {
    "execution": {
     "iopub.execute_input": "2025-01-28T09:25:04.335478Z",
     "iopub.status.busy": "2025-01-28T09:25:04.330974Z",
     "iopub.status.idle": "2025-01-28T09:25:04.345133Z",
     "shell.execute_reply": "2025-01-28T09:25:04.342833Z"
    },
    "id": "w6ndYyUfd6HS",
    "papermill": {
     "duration": 0.043203,
     "end_time": "2025-01-28T09:25:04.348952",
     "exception": false,
     "start_time": "2025-01-28T09:25:04.305749",
     "status": "completed"
    },
    "tags": []
   },
   "outputs": [],
   "source": [
    "# Show Miising Value on Plot\n",
    "def show_missing_value_plot(dataframe, bar=True, matrix=True, heatmap=True):\n",
    "  !pip install missingno\n",
    "  import missingno as msno\n",
    "  if bar:\n",
    "    msno.bar(dataframe);\n",
    "  if matrix:\n",
    "    msno.matrix(dataframe);\n",
    "  if heatmap:\n",
    "    msno.heatmap(dataframe);"
   ]
  },
  {
   "cell_type": "code",
   "execution_count": 28,
   "id": "44db5498",
   "metadata": {
    "execution": {
     "iopub.execute_input": "2025-01-28T09:25:04.400887Z",
     "iopub.status.busy": "2025-01-28T09:25:04.400452Z",
     "iopub.status.idle": "2025-01-28T09:25:50.152971Z",
     "shell.execute_reply": "2025-01-28T09:25:50.151009Z"
    },
    "id": "CtYmf8cKd_9N",
    "outputId": "91c07c5a-50dd-472e-d7d3-23cc392f1c74",
    "papermill": {
     "duration": 45.779072,
     "end_time": "2025-01-28T09:25:50.155950",
     "exception": false,
     "start_time": "2025-01-28T09:25:04.376878",
     "status": "completed"
    },
    "tags": []
   },
   "outputs": [
    {
     "name": "stdout",
     "output_type": "stream",
     "text": [
      "Requirement already satisfied: missingno in /opt/conda/lib/python3.7/site-packages (0.4.2)\r\n",
      "Requirement already satisfied: seaborn in /opt/conda/lib/python3.7/site-packages (from missingno) (0.11.2)\r\n",
      "Requirement already satisfied: matplotlib in /opt/conda/lib/python3.7/site-packages (from missingno) (3.5.3)\r\n",
      "Requirement already satisfied: numpy in /opt/conda/lib/python3.7/site-packages (from missingno) (1.21.6)\r\n",
      "Requirement already satisfied: scipy in /opt/conda/lib/python3.7/site-packages (from missingno) (1.7.3)\r\n",
      "Requirement already satisfied: python-dateutil>=2.7 in /opt/conda/lib/python3.7/site-packages (from matplotlib->missingno) (2.8.2)\r\n",
      "Requirement already satisfied: pyparsing>=2.2.1 in /opt/conda/lib/python3.7/site-packages (from matplotlib->missingno) (3.0.9)\r\n",
      "Requirement already satisfied: pillow>=6.2.0 in /opt/conda/lib/python3.7/site-packages (from matplotlib->missingno) (9.1.1)\r\n",
      "Requirement already satisfied: cycler>=0.10 in /opt/conda/lib/python3.7/site-packages (from matplotlib->missingno) (0.11.0)\r\n",
      "Requirement already satisfied: packaging>=20.0 in /opt/conda/lib/python3.7/site-packages (from matplotlib->missingno) (21.3)\r\n",
      "Requirement already satisfied: fonttools>=4.22.0 in /opt/conda/lib/python3.7/site-packages (from matplotlib->missingno) (4.33.3)\r\n",
      "Requirement already satisfied: kiwisolver>=1.0.1 in /opt/conda/lib/python3.7/site-packages (from matplotlib->missingno) (1.4.3)\r\n",
      "Requirement already satisfied: pandas>=0.23 in /opt/conda/lib/python3.7/site-packages (from seaborn->missingno) (1.3.5)\r\n",
      "Requirement already satisfied: typing-extensions in /opt/conda/lib/python3.7/site-packages (from kiwisolver>=1.0.1->matplotlib->missingno) (4.4.0)\r\n",
      "Requirement already satisfied: pytz>=2017.3 in /opt/conda/lib/python3.7/site-packages (from pandas>=0.23->seaborn->missingno) (2022.1)\r\n",
      "Requirement already satisfied: six>=1.5 in /opt/conda/lib/python3.7/site-packages (from python-dateutil>=2.7->matplotlib->missingno) (1.15.0)\r\n",
      "\u001b[33mWARNING: Running pip as the 'root' user can result in broken permissions and conflicting behaviour with the system package manager. It is recommended to use a virtual environment instead: https://pip.pypa.io/warnings/venv\u001b[0m\u001b[33m\r\n",
      "\u001b[0m\u001b[33mWARNING: There was an error checking the latest version of pip.\u001b[0m\u001b[33m\r\n",
      "\u001b[0m"
     ]
    },
    {
     "data": {
      "image/png": "[encoded data removed]",
      "text/plain": [
       "<Figure size 1728x720 with 3 Axes>"
      ]
     },
     "metadata": {},
     "output_type": "display_data"
    },
    {
     "data": {
      "image/png": "[encoded data removed]",
      "text/plain": [
       "<Figure size 1800x720 with 2 Axes>"
      ]
     },
     "metadata": {},
     "output_type": "display_data"
    },
    {
     "data": {
      "image/png": "[encoded data removed]",
      "text/plain": [
       "<Figure size 1440x864 with 2 Axes>"
      ]
     },
     "metadata": {},
     "output_type": "display_data"
    }
   ],
   "source": [
    "show_missing_value_plot(df[na_columns])"
   ]
  },
  {
   "cell_type": "code",
   "execution_count": 29,
   "id": "aa994f36",
   "metadata": {
    "execution": {
     "iopub.execute_input": "2025-01-28T09:25:50.204413Z",
     "iopub.status.busy": "2025-01-28T09:25:50.203958Z",
     "iopub.status.idle": "2025-01-28T09:25:50.212273Z",
     "shell.execute_reply": "2025-01-28T09:25:50.210905Z"
    },
    "id": "hv0a2qC-eNSf",
    "papermill": {
     "duration": 0.034757,
     "end_time": "2025-01-28T09:25:50.214822",
     "exception": false,
     "start_time": "2025-01-28T09:25:50.180065",
     "status": "completed"
    },
    "tags": []
   },
   "outputs": [],
   "source": [
    "# Examining the Relationship of Missing Values with the Dependent Variable\n",
    "def missing_vs_target(dataframe, target):\n",
    "  na_columns = missing_value_table(dataframe, na_name=True)\n",
    "  temp_df = dataframe.copy()\n",
    "  for col in na_columns:\n",
    "    temp_df[col + \"_NA_FLAG\"] = np.where(temp_df[col].isnull(), 1, 0)\n",
    "  na_flags = temp_df.loc[:, temp_df.columns.str.contains(\"_NA_\")].columns\n",
    "  for col in na_flags:\n",
    "    print(pd.DataFrame({\"TARGET_MEAN\": temp_df.groupby(col)[target].mean(),\n",
    "                        \"Count\": temp_df.groupby(col)[target].count()}))\n",
    "    print(\"##################################################\")"
   ]
  },
  {
   "cell_type": "code",
   "execution_count": 30,
   "id": "2a48cfd6",
   "metadata": {
    "execution": {
     "iopub.execute_input": "2025-01-28T09:25:50.260057Z",
     "iopub.status.busy": "2025-01-28T09:25:50.259682Z",
     "iopub.status.idle": "2025-01-28T09:25:50.298115Z",
     "shell.execute_reply": "2025-01-28T09:25:50.296635Z"
    },
    "id": "u3y2IZqMjtEk",
    "outputId": "ecdae47e-2d0c-4a8c-93a9-dd64c0144257",
    "papermill": {
     "duration": 0.064118,
     "end_time": "2025-01-28T09:25:50.300809",
     "exception": false,
     "start_time": "2025-01-28T09:25:50.236691",
     "status": "completed"
    },
    "tags": []
   },
   "outputs": [
    {
     "name": "stdout",
     "output_type": "stream",
     "text": [
      "               n_miss  ratio\n",
      "Insulin           374 48.700\n",
      "SkinThickness     227 29.560\n",
      "BloodPressure      35  4.560\n",
      "BMI                11  1.430\n",
      "Glucose             5  0.650\n",
      "                 TARGET_MEAN  Count\n",
      "Glucose_NA_FLAG                    \n",
      "0                      0.349    763\n",
      "1                      0.400      5\n",
      "##################################################\n",
      "                       TARGET_MEAN  Count\n",
      "BloodPressure_NA_FLAG                    \n",
      "0                            0.344    733\n",
      "1                            0.457     35\n",
      "##################################################\n",
      "                       TARGET_MEAN  Count\n",
      "SkinThickness_NA_FLAG                    \n",
      "0                            0.333    541\n",
      "1                            0.388    227\n",
      "##################################################\n",
      "                 TARGET_MEAN  Count\n",
      "Insulin_NA_FLAG                    \n",
      "0                      0.330    394\n",
      "1                      0.369    374\n",
      "##################################################\n",
      "             TARGET_MEAN  Count\n",
      "BMI_NA_FLAG                    \n",
      "0                  0.351    757\n",
      "1                  0.182     11\n",
      "##################################################\n"
     ]
    }
   ],
   "source": [
    "missing_vs_target(df, \"Outcome\")"
   ]
  },
  {
   "cell_type": "code",
   "execution_count": 31,
   "id": "7f49ed4c",
   "metadata": {
    "execution": {
     "iopub.execute_input": "2025-01-28T09:25:50.346430Z",
     "iopub.status.busy": "2025-01-28T09:25:50.346004Z",
     "iopub.status.idle": "2025-01-28T09:25:50.358290Z",
     "shell.execute_reply": "2025-01-28T09:25:50.357172Z"
    },
    "id": "cmjNwTeqj8_N",
    "papermill": {
     "duration": 0.038042,
     "end_time": "2025-01-28T09:25:50.360927",
     "exception": false,
     "start_time": "2025-01-28T09:25:50.322885",
     "status": "completed"
    },
    "tags": []
   },
   "outputs": [],
   "source": [
    "# Assigning a Missing Value\n",
    "for col in zero_columns:\n",
    "  df.loc[df[col].isnull(), col] = df[col].median()"
   ]
  },
  {
   "cell_type": "code",
   "execution_count": 32,
   "id": "025ba557",
   "metadata": {
    "execution": {
     "iopub.execute_input": "2025-01-28T09:25:50.405640Z",
     "iopub.status.busy": "2025-01-28T09:25:50.405204Z",
     "iopub.status.idle": "2025-01-28T09:25:50.415607Z",
     "shell.execute_reply": "2025-01-28T09:25:50.414288Z"
    },
    "id": "q6KxjrIIrPY-",
    "outputId": "b8e73a60-f704-4d63-dd7d-329659d65015",
    "papermill": {
     "duration": 0.03579,
     "end_time": "2025-01-28T09:25:50.418140",
     "exception": false,
     "start_time": "2025-01-28T09:25:50.382350",
     "status": "completed"
    },
    "tags": []
   },
   "outputs": [
    {
     "data": {
      "text/plain": [
       "Pregnancies                 0\n",
       "Glucose                     0\n",
       "BloodPressure               0\n",
       "SkinThickness               0\n",
       "Insulin                     0\n",
       "BMI                         0\n",
       "DiabetesPedigreeFunction    0\n",
       "Age                         0\n",
       "Outcome                     0\n",
       "dtype: int64"
      ]
     },
     "execution_count": 32,
     "metadata": {},
     "output_type": "execute_result"
    }
   ],
   "source": [
    "df.isnull().sum()"
   ]
  },
  {
   "cell_type": "markdown",
   "id": "3ecc462b",
   "metadata": {
    "id": "cNe4KmxUrkdy",
    "papermill": {
     "duration": 0.022169,
     "end_time": "2025-01-28T09:25:50.461985",
     "exception": false,
     "start_time": "2025-01-28T09:25:50.439816",
     "status": "completed"
    },
    "tags": []
   },
   "source": [
    "# Outlier Analysis"
   ]
  },
  {
   "cell_type": "code",
   "execution_count": 33,
   "id": "9101c9e5",
   "metadata": {
    "execution": {
     "iopub.execute_input": "2025-01-28T09:25:50.508059Z",
     "iopub.status.busy": "2025-01-28T09:25:50.507644Z",
     "iopub.status.idle": "2025-01-28T09:25:50.514654Z",
     "shell.execute_reply": "2025-01-28T09:25:50.513030Z"
    },
    "id": "KFcTZZdCrQy5",
    "papermill": {
     "duration": 0.033547,
     "end_time": "2025-01-28T09:25:50.517324",
     "exception": false,
     "start_time": "2025-01-28T09:25:50.483777",
     "status": "completed"
    },
    "tags": []
   },
   "outputs": [],
   "source": [
    "def outlier_thresholds(dataframe,col_name,q1=0.05,q3=0.95):\n",
    "  quartile1 = dataframe[col_name].quantile(q1)\n",
    "  quartile3 = dataframe[col_name].quantile(q3)\n",
    "  interquartile_range = quartile3 - quartile1\n",
    "  low_limit = quartile1 - 1.5 * interquartile_range\n",
    "  up_limit = quartile3 + 1.5 * interquartile_range\n",
    "  return low_limit,up_limit"
   ]
  },
  {
   "cell_type": "code",
   "execution_count": 34,
   "id": "c03688bd",
   "metadata": {
    "execution": {
     "iopub.execute_input": "2025-01-28T09:25:50.564376Z",
     "iopub.status.busy": "2025-01-28T09:25:50.563151Z",
     "iopub.status.idle": "2025-01-28T09:25:50.569853Z",
     "shell.execute_reply": "2025-01-28T09:25:50.568550Z"
    },
    "id": "OXWw-Uitrrei",
    "papermill": {
     "duration": 0.03288,
     "end_time": "2025-01-28T09:25:50.572558",
     "exception": false,
     "start_time": "2025-01-28T09:25:50.539678",
     "status": "completed"
    },
    "tags": []
   },
   "outputs": [],
   "source": [
    "def check_outlier(dataframe, col_name):\n",
    "  low_limit,up_limit = outlier_thresholds(dataframe,col_name)\n",
    "  if dataframe[(dataframe[col_name] > up_limit) | (dataframe[col_name] < low_limit)].any(axis=None):\n",
    "    return True\n",
    "  else:\n",
    "    return False"
   ]
  },
  {
   "cell_type": "code",
   "execution_count": 35,
   "id": "84e5a935",
   "metadata": {
    "execution": {
     "iopub.execute_input": "2025-01-28T09:25:50.619481Z",
     "iopub.status.busy": "2025-01-28T09:25:50.619051Z",
     "iopub.status.idle": "2025-01-28T09:25:50.625437Z",
     "shell.execute_reply": "2025-01-28T09:25:50.624147Z"
    },
    "id": "13_n7uOVsLWa",
    "papermill": {
     "duration": 0.033619,
     "end_time": "2025-01-28T09:25:50.628526",
     "exception": false,
     "start_time": "2025-01-28T09:25:50.594907",
     "status": "completed"
    },
    "tags": []
   },
   "outputs": [],
   "source": [
    "def replace_with_thresholds(dataframe, col_name):\n",
    "  low_limit, up_limit = outlier_thresholds(dataframe, col_name)\n",
    "  dataframe.loc[(dataframe[col_name] < low_limit), col_name] = low_limit\n",
    "  dataframe.loc[(dataframe[col_name] > up_limit), col_name] = up_limit"
   ]
  },
  {
   "cell_type": "code",
   "execution_count": 36,
   "id": "89bc61f1",
   "metadata": {
    "execution": {
     "iopub.execute_input": "2025-01-28T09:25:50.675581Z",
     "iopub.status.busy": "2025-01-28T09:25:50.675168Z",
     "iopub.status.idle": "2025-01-28T09:25:50.741108Z",
     "shell.execute_reply": "2025-01-28T09:25:50.739762Z"
    },
    "id": "ow2edwPxsdLD",
    "outputId": "e4ad1f42-d494-4c09-da33-546fee0fdb4c",
    "papermill": {
     "duration": 0.092929,
     "end_time": "2025-01-28T09:25:50.743621",
     "exception": false,
     "start_time": "2025-01-28T09:25:50.650692",
     "status": "completed"
    },
    "tags": []
   },
   "outputs": [
    {
     "name": "stdout",
     "output_type": "stream",
     "text": [
      "Pregnancies False\n",
      "Glucose False\n",
      "BloodPressure False\n",
      "SkinThickness True\n",
      "Insulin True\n",
      "BMI False\n",
      "DiabetesPedigreeFunction False\n",
      "Age False\n",
      "Outcome False\n"
     ]
    }
   ],
   "source": [
    "for col in df.columns:\n",
    "  print(col, check_outlier(df, col))\n",
    "  if check_outlier(df, col):\n",
    "    replace_with_thresholds(df, col)"
   ]
  },
  {
   "cell_type": "code",
   "execution_count": 37,
   "id": "0854c39f",
   "metadata": {
    "execution": {
     "iopub.execute_input": "2025-01-28T09:25:50.788526Z",
     "iopub.status.busy": "2025-01-28T09:25:50.788122Z",
     "iopub.status.idle": "2025-01-28T09:25:50.825952Z",
     "shell.execute_reply": "2025-01-28T09:25:50.824594Z"
    },
    "id": "94dt8P5gtDaC",
    "outputId": "ae0f169f-e11b-4258-ce1f-e9818f2749bd",
    "papermill": {
     "duration": 0.063305,
     "end_time": "2025-01-28T09:25:50.828491",
     "exception": false,
     "start_time": "2025-01-28T09:25:50.765186",
     "status": "completed"
    },
    "tags": []
   },
   "outputs": [
    {
     "name": "stdout",
     "output_type": "stream",
     "text": [
      "Pregnancies False\n",
      "Glucose False\n",
      "BloodPressure False\n",
      "SkinThickness False\n",
      "Insulin False\n",
      "BMI False\n",
      "DiabetesPedigreeFunction False\n",
      "Age False\n",
      "Outcome False\n"
     ]
    }
   ],
   "source": [
    "for col in df.columns:\n",
    "  print(col, check_outlier(df, col))"
   ]
  },
  {
   "cell_type": "markdown",
   "id": "8c7727e6",
   "metadata": {
    "id": "nAcqKCC_wLgS",
    "papermill": {
     "duration": 0.027779,
     "end_time": "2025-01-28T09:25:50.878414",
     "exception": false,
     "start_time": "2025-01-28T09:25:50.850635",
     "status": "completed"
    },
    "tags": []
   },
   "source": [
    "# Feature Extraction"
   ]
  },
  {
   "cell_type": "code",
   "execution_count": 38,
   "id": "a2b3e09c",
   "metadata": {
    "execution": {
     "iopub.execute_input": "2025-01-28T09:25:50.924177Z",
     "iopub.status.busy": "2025-01-28T09:25:50.923780Z",
     "iopub.status.idle": "2025-01-28T09:25:50.967322Z",
     "shell.execute_reply": "2025-01-28T09:25:50.965519Z"
    },
    "id": "MnEu-fFdtOpX",
    "papermill": {
     "duration": 0.070918,
     "end_time": "2025-01-28T09:25:50.971615",
     "exception": false,
     "start_time": "2025-01-28T09:25:50.900697",
     "status": "completed"
    },
    "tags": []
   },
   "outputs": [],
   "source": [
    "df.loc[(df[\"Age\"] >= 21) & (df[\"Age\"] < 50), \"NEW_AGE_CAT\"] = \"mature\"\n",
    "df.loc[(df[\"Age\"] >= 50), \"NEW_AGE_CAT\"] = \"senior\"\n",
    "\n",
    "df['NEW_BMI'] = pd.cut(x=df['BMI'], bins=[0, 18.5, 24.9, 29.9, 100],labels=[\"Underweight\", \"Healthy\", \"Overweight\", \"Obese\"])\n",
    "\n",
    "df.loc[(df[\"BMI\"] < 18.5) & ((df[\"Age\"] >= 21) & (df[\"Age\"] < 50)), \"NEW_AGE_BMI_NOM\"] = \"underweightmature\"\n",
    "df.loc[(df[\"BMI\"] < 18.5) & (df[\"Age\"] >= 50), \"NEW_AGE_BMI_NOM\"] = \"underweightsenior\"\n",
    "df.loc[((df[\"BMI\"] >= 18.5) & (df[\"BMI\"] < 25)) & ((df[\"Age\"] >= 21) & (df[\"Age\"] < 50)), \"NEW_AGE_BMI_NOM\"] = \"healthymature\"\n",
    "df.loc[((df[\"BMI\"] >= 18.5) & (df[\"BMI\"] < 25)) & (df[\"Age\"] >= 50), \"NEW_AGE_BMI_NOM\"] = \"healthysenior\"\n",
    "df.loc[((df[\"BMI\"] >= 25) & (df[\"BMI\"] < 30)) & ((df[\"Age\"] >= 21) & (df[\"Age\"] < 50)), \"NEW_AGE_BMI_NOM\"] = \"overweightmature\"\n",
    "df.loc[((df[\"BMI\"] >= 25) & (df[\"BMI\"] < 30)) & (df[\"Age\"] >= 50), \"NEW_AGE_BMI_NOM\"] = \"overweightsenior\"\n",
    "df.loc[(df[\"BMI\"] > 18.5) & ((df[\"Age\"] >= 21) & (df[\"Age\"] < 50)), \"NEW_AGE_BMI_NOM\"] = \"obesemature\"\n",
    "df.loc[(df[\"BMI\"] > 18.5) & (df[\"Age\"] >= 50), \"NEW_AGE_BMI_NOM\"] = \"obesesenior\"\n",
    "\n",
    "df.loc[(df[\"Glucose\"] < 70) & ((df[\"Age\"] >= 21) & (df[\"Age\"] < 50)), \"NEW_AGE_GLUCOSE_NOM\"] = \"lowmature\"\n",
    "df.loc[(df[\"Glucose\"] < 70) & (df[\"Age\"] >= 50), \"NEW_AGE_GLUCOSE_NOM\"] = \"lowsenior\"\n",
    "df.loc[((df[\"Glucose\"] >= 70) & (df[\"Glucose\"] < 100)) & ((df[\"Age\"] >= 21) & (df[\"Age\"] < 50)), \"NEW_AGE_GLUCOSE_NOM\"] = \"normalmature\"\n",
    "df.loc[((df[\"Glucose\"] >= 70) & (df[\"Glucose\"] < 100)) & (df[\"Age\"] >= 50), \"NEW_AGE_GLUCOSE_NOM\"] = \"normalsenior\"\n",
    "df.loc[((df[\"Glucose\"] >= 100) & (df[\"Glucose\"] <= 125)) & ((df[\"Age\"] >= 21) & (df[\"Age\"] < 50)), \"NEW_AGE_GLUCOSE_NOM\"] = \"hiddenmature\"\n",
    "df.loc[((df[\"Glucose\"] >= 100) & (df[\"Glucose\"] <= 125)) & (df[\"Age\"] >= 50), \"NEW_AGE_GLUCOSE_NOM\"] = \"hiddensenior\"\n",
    "df.loc[(df[\"Glucose\"] > 125) & ((df[\"Age\"] >= 21) & (df[\"Age\"] < 50)), \"NEW_AGE_GLUCOSE_NOM\"] = \"highmature\"\n",
    "df.loc[(df[\"Glucose\"] > 125) & (df[\"Age\"] >= 50), \"NEW_AGE_GLUCOSE_NOM\"] = \"highsenior\""
   ]
  },
  {
   "cell_type": "code",
   "execution_count": 39,
   "id": "0b87c57a",
   "metadata": {
    "execution": {
     "iopub.execute_input": "2025-01-28T09:25:51.037373Z",
     "iopub.status.busy": "2025-01-28T09:25:51.036098Z",
     "iopub.status.idle": "2025-01-28T09:25:51.064658Z",
     "shell.execute_reply": "2025-01-28T09:25:51.063298Z"
    },
    "id": "h8MlVPDlweCY",
    "papermill": {
     "duration": 0.068938,
     "end_time": "2025-01-28T09:25:51.067387",
     "exception": false,
     "start_time": "2025-01-28T09:25:50.998449",
     "status": "completed"
    },
    "tags": []
   },
   "outputs": [],
   "source": [
    "def set_insulin(dataframe, col_name=\"Insulin\"):\n",
    "    if 16 <= dataframe[col_name] <= 166:\n",
    "        return \"Normal\"\n",
    "    else:\n",
    "        return \"Abnormal\"\n",
    "\n",
    "df[\"NEW_INSULIN_SCORE\"] = df.apply(set_insulin, axis=1)\n",
    "\n",
    "df[\"NEW_GLUCOSE*INSULIN\"] = df[\"Glucose\"] * df[\"Insulin\"]\n",
    "df[\"NEW_GLUCOSE*PREGNANCIES\"] = df[\"Glucose\"] * df[\"Pregnancies\"]"
   ]
  },
  {
   "cell_type": "code",
   "execution_count": 40,
   "id": "749c00c5",
   "metadata": {
    "execution": {
     "iopub.execute_input": "2025-01-28T09:25:51.115282Z",
     "iopub.status.busy": "2025-01-28T09:25:51.114873Z",
     "iopub.status.idle": "2025-01-28T09:25:51.120752Z",
     "shell.execute_reply": "2025-01-28T09:25:51.119608Z"
    },
    "id": "15eNCFtawtdN",
    "papermill": {
     "duration": 0.033403,
     "end_time": "2025-01-28T09:25:51.123131",
     "exception": false,
     "start_time": "2025-01-28T09:25:51.089728",
     "status": "completed"
    },
    "tags": []
   },
   "outputs": [],
   "source": [
    "df.columns = [col.upper() for col in df.columns]"
   ]
  },
  {
   "cell_type": "code",
   "execution_count": 41,
   "id": "63c8fc82",
   "metadata": {
    "execution": {
     "iopub.execute_input": "2025-01-28T09:25:51.169267Z",
     "iopub.status.busy": "2025-01-28T09:25:51.168819Z",
     "iopub.status.idle": "2025-01-28T09:25:51.186179Z",
     "shell.execute_reply": "2025-01-28T09:25:51.185028Z"
    },
    "id": "boOrMLTTwuYs",
    "outputId": "0f17cd50-045c-463f-a5b8-308d857a90b4",
    "papermill": {
     "duration": 0.043813,
     "end_time": "2025-01-28T09:25:51.188725",
     "exception": false,
     "start_time": "2025-01-28T09:25:51.144912",
     "status": "completed"
    },
    "tags": []
   },
   "outputs": [
    {
     "data": {
      "text/html": [
       "<div>\n",
       "<style scoped>\n",
       "    .dataframe tbody tr th:only-of-type {\n",
       "        vertical-align: middle;\n",
       "    }\n",
       "\n",
       "    .dataframe tbody tr th {\n",
       "        vertical-align: top;\n",
       "    }\n",
       "\n",
       "    .dataframe thead th {\n",
       "        text-align: right;\n",
       "    }\n",
       "</style>\n",
       "<table border=\"1\" class=\"dataframe\">\n",
       "  <thead>\n",
       "    <tr style=\"text-align: right;\">\n",
       "      <th></th>\n",
       "      <th>PREGNANCIES</th>\n",
       "      <th>GLUCOSE</th>\n",
       "      <th>BLOODPRESSURE</th>\n",
       "      <th>SKINTHICKNESS</th>\n",
       "      <th>INSULIN</th>\n",
       "      <th>BMI</th>\n",
       "      <th>DIABETESPEDIGREEFUNCTION</th>\n",
       "      <th>AGE</th>\n",
       "      <th>OUTCOME</th>\n",
       "      <th>NEW_AGE_CAT</th>\n",
       "      <th>NEW_BMI</th>\n",
       "      <th>NEW_AGE_BMI_NOM</th>\n",
       "      <th>NEW_AGE_GLUCOSE_NOM</th>\n",
       "      <th>NEW_INSULIN_SCORE</th>\n",
       "      <th>NEW_GLUCOSE*INSULIN</th>\n",
       "      <th>NEW_GLUCOSE*PREGNANCIES</th>\n",
       "    </tr>\n",
       "  </thead>\n",
       "  <tbody>\n",
       "    <tr>\n",
       "      <th>0</th>\n",
       "      <td>6</td>\n",
       "      <td>148.000</td>\n",
       "      <td>72.000</td>\n",
       "      <td>35.000</td>\n",
       "      <td>125.000</td>\n",
       "      <td>33.600</td>\n",
       "      <td>0.627</td>\n",
       "      <td>50</td>\n",
       "      <td>1</td>\n",
       "      <td>senior</td>\n",
       "      <td>Obese</td>\n",
       "      <td>obesesenior</td>\n",
       "      <td>highsenior</td>\n",
       "      <td>Normal</td>\n",
       "      <td>18500.000</td>\n",
       "      <td>888.000</td>\n",
       "    </tr>\n",
       "    <tr>\n",
       "      <th>1</th>\n",
       "      <td>1</td>\n",
       "      <td>85.000</td>\n",
       "      <td>66.000</td>\n",
       "      <td>29.000</td>\n",
       "      <td>125.000</td>\n",
       "      <td>26.600</td>\n",
       "      <td>0.351</td>\n",
       "      <td>31</td>\n",
       "      <td>0</td>\n",
       "      <td>mature</td>\n",
       "      <td>Overweight</td>\n",
       "      <td>obesemature</td>\n",
       "      <td>normalmature</td>\n",
       "      <td>Normal</td>\n",
       "      <td>10625.000</td>\n",
       "      <td>85.000</td>\n",
       "    </tr>\n",
       "    <tr>\n",
       "      <th>2</th>\n",
       "      <td>8</td>\n",
       "      <td>183.000</td>\n",
       "      <td>64.000</td>\n",
       "      <td>29.000</td>\n",
       "      <td>125.000</td>\n",
       "      <td>23.300</td>\n",
       "      <td>0.672</td>\n",
       "      <td>32</td>\n",
       "      <td>1</td>\n",
       "      <td>mature</td>\n",
       "      <td>Healthy</td>\n",
       "      <td>obesemature</td>\n",
       "      <td>highmature</td>\n",
       "      <td>Normal</td>\n",
       "      <td>22875.000</td>\n",
       "      <td>1464.000</td>\n",
       "    </tr>\n",
       "    <tr>\n",
       "      <th>3</th>\n",
       "      <td>1</td>\n",
       "      <td>89.000</td>\n",
       "      <td>66.000</td>\n",
       "      <td>23.000</td>\n",
       "      <td>94.000</td>\n",
       "      <td>28.100</td>\n",
       "      <td>0.167</td>\n",
       "      <td>21</td>\n",
       "      <td>0</td>\n",
       "      <td>mature</td>\n",
       "      <td>Overweight</td>\n",
       "      <td>obesemature</td>\n",
       "      <td>normalmature</td>\n",
       "      <td>Normal</td>\n",
       "      <td>8366.000</td>\n",
       "      <td>89.000</td>\n",
       "    </tr>\n",
       "    <tr>\n",
       "      <th>4</th>\n",
       "      <td>0</td>\n",
       "      <td>137.000</td>\n",
       "      <td>40.000</td>\n",
       "      <td>35.000</td>\n",
       "      <td>168.000</td>\n",
       "      <td>43.100</td>\n",
       "      <td>2.288</td>\n",
       "      <td>33</td>\n",
       "      <td>1</td>\n",
       "      <td>mature</td>\n",
       "      <td>Obese</td>\n",
       "      <td>obesemature</td>\n",
       "      <td>highmature</td>\n",
       "      <td>Abnormal</td>\n",
       "      <td>23016.000</td>\n",
       "      <td>0.000</td>\n",
       "    </tr>\n",
       "  </tbody>\n",
       "</table>\n",
       "</div>"
      ],
      "text/plain": [
       "   PREGNANCIES  GLUCOSE  BLOODPRESSURE  SKINTHICKNESS  INSULIN    BMI  \\\n",
       "0            6  148.000         72.000         35.000  125.000 33.600   \n",
       "1            1   85.000         66.000         29.000  125.000 26.600   \n",
       "2            8  183.000         64.000         29.000  125.000 23.300   \n",
       "3            1   89.000         66.000         23.000   94.000 28.100   \n",
       "4            0  137.000         40.000         35.000  168.000 43.100   \n",
       "\n",
       "   DIABETESPEDIGREEFUNCTION  AGE  OUTCOME NEW_AGE_CAT     NEW_BMI  \\\n",
       "0                     0.627   50        1      senior       Obese   \n",
       "1                     0.351   31        0      mature  Overweight   \n",
       "2                     0.672   32        1      mature     Healthy   \n",
       "3                     0.167   21        0      mature  Overweight   \n",
       "4                     2.288   33        1      mature       Obese   \n",
       "\n",
       "  NEW_AGE_BMI_NOM NEW_AGE_GLUCOSE_NOM NEW_INSULIN_SCORE  NEW_GLUCOSE*INSULIN  \\\n",
       "0     obesesenior          highsenior            Normal            18500.000   \n",
       "1     obesemature        normalmature            Normal            10625.000   \n",
       "2     obesemature          highmature            Normal            22875.000   \n",
       "3     obesemature        normalmature            Normal             8366.000   \n",
       "4     obesemature          highmature          Abnormal            23016.000   \n",
       "\n",
       "   NEW_GLUCOSE*PREGNANCIES  \n",
       "0                  888.000  \n",
       "1                   85.000  \n",
       "2                 1464.000  \n",
       "3                   89.000  \n",
       "4                    0.000  "
      ]
     },
     "execution_count": 41,
     "metadata": {},
     "output_type": "execute_result"
    }
   ],
   "source": [
    "df.head()"
   ]
  },
  {
   "cell_type": "markdown",
   "id": "1b102793",
   "metadata": {
    "id": "ontK6LZjwx7t",
    "papermill": {
     "duration": 0.021553,
     "end_time": "2025-01-28T09:25:51.232249",
     "exception": false,
     "start_time": "2025-01-28T09:25:51.210696",
     "status": "completed"
    },
    "tags": []
   },
   "source": [
    "# Encoding Scaling"
   ]
  },
  {
   "cell_type": "code",
   "execution_count": 42,
   "id": "6c55b7be",
   "metadata": {
    "execution": {
     "iopub.execute_input": "2025-01-28T09:25:51.278739Z",
     "iopub.status.busy": "2025-01-28T09:25:51.278353Z",
     "iopub.status.idle": "2025-01-28T09:25:51.290943Z",
     "shell.execute_reply": "2025-01-28T09:25:51.289753Z"
    },
    "id": "kKf_FHoiwvQs",
    "papermill": {
     "duration": 0.040019,
     "end_time": "2025-01-28T09:25:51.294408",
     "exception": false,
     "start_time": "2025-01-28T09:25:51.254389",
     "status": "completed"
    },
    "tags": []
   },
   "outputs": [],
   "source": [
    "cat_cols, num_cols, cat_but_car = grab_col_names(df)"
   ]
  },
  {
   "cell_type": "code",
   "execution_count": 43,
   "id": "85015ac1",
   "metadata": {
    "execution": {
     "iopub.execute_input": "2025-01-28T09:25:51.341307Z",
     "iopub.status.busy": "2025-01-28T09:25:51.340907Z",
     "iopub.status.idle": "2025-01-28T09:25:51.346749Z",
     "shell.execute_reply": "2025-01-28T09:25:51.345556Z"
    },
    "id": "RFVpKTWhxHP5",
    "papermill": {
     "duration": 0.032391,
     "end_time": "2025-01-28T09:25:51.349090",
     "exception": false,
     "start_time": "2025-01-28T09:25:51.316699",
     "status": "completed"
    },
    "tags": []
   },
   "outputs": [],
   "source": [
    "def label_encoder(dataframe, binary_col):\n",
    "  labelencoder = LabelEncoder()\n",
    "  dataframe[binary_col] = labelencoder.fit_transform(dataframe[binary_col])\n",
    "  return dataframe"
   ]
  },
  {
   "cell_type": "code",
   "execution_count": 44,
   "id": "a1cd7db8",
   "metadata": {
    "execution": {
     "iopub.execute_input": "2025-01-28T09:25:51.394043Z",
     "iopub.status.busy": "2025-01-28T09:25:51.393672Z",
     "iopub.status.idle": "2025-01-28T09:25:51.402171Z",
     "shell.execute_reply": "2025-01-28T09:25:51.400966Z"
    },
    "id": "v8t4SJ7xxKzk",
    "papermill": {
     "duration": 0.033851,
     "end_time": "2025-01-28T09:25:51.404364",
     "exception": false,
     "start_time": "2025-01-28T09:25:51.370513",
     "status": "completed"
    },
    "tags": []
   },
   "outputs": [],
   "source": [
    "binary_cols = [col for col in df.columns if df[col].dtypes == \"O\" and df[col].nunique() == 2]\n",
    "for col in binary_cols:\n",
    "    df = label_encoder(df, col)"
   ]
  },
  {
   "cell_type": "code",
   "execution_count": 45,
   "id": "ad1afff7",
   "metadata": {
    "execution": {
     "iopub.execute_input": "2025-01-28T09:25:51.452145Z",
     "iopub.status.busy": "2025-01-28T09:25:51.451761Z",
     "iopub.status.idle": "2025-01-28T09:25:51.458905Z",
     "shell.execute_reply": "2025-01-28T09:25:51.457384Z"
    },
    "id": "PCEZDNMmxYPO",
    "papermill": {
     "duration": 0.034404,
     "end_time": "2025-01-28T09:25:51.461432",
     "exception": false,
     "start_time": "2025-01-28T09:25:51.427028",
     "status": "completed"
    },
    "tags": []
   },
   "outputs": [],
   "source": [
    "cat_cols = [col for col in cat_cols if col not in binary_cols and col not in [\"OUTCOME\"]]\n",
    "def one_hot_encoding(dataframe, cat_cols, drop_first=False):\n",
    "    dataframe = pd.get_dummies(dataframe, columns=cat_cols, drop_first=drop_first)\n",
    "    return dataframe"
   ]
  },
  {
   "cell_type": "code",
   "execution_count": 46,
   "id": "a97cbbb1",
   "metadata": {
    "execution": {
     "iopub.execute_input": "2025-01-28T09:25:51.507869Z",
     "iopub.status.busy": "2025-01-28T09:25:51.507483Z",
     "iopub.status.idle": "2025-01-28T09:25:51.519239Z",
     "shell.execute_reply": "2025-01-28T09:25:51.518121Z"
    },
    "id": "3OKcCZCLyfN4",
    "papermill": {
     "duration": 0.037554,
     "end_time": "2025-01-28T09:25:51.521810",
     "exception": false,
     "start_time": "2025-01-28T09:25:51.484256",
     "status": "completed"
    },
    "tags": []
   },
   "outputs": [],
   "source": [
    "df = one_hot_encoding(df, cat_cols, drop_first=True)"
   ]
  },
  {
   "cell_type": "code",
   "execution_count": 47,
   "id": "a779c732",
   "metadata": {
    "execution": {
     "iopub.execute_input": "2025-01-28T09:25:51.569504Z",
     "iopub.status.busy": "2025-01-28T09:25:51.568676Z",
     "iopub.status.idle": "2025-01-28T09:25:51.591021Z",
     "shell.execute_reply": "2025-01-28T09:25:51.589426Z"
    },
    "id": "DdvXs151ykDf",
    "outputId": "0be6e10e-29fd-4de8-de3b-a2a90cc63ec8",
    "papermill": {
     "duration": 0.05042,
     "end_time": "2025-01-28T09:25:51.594387",
     "exception": false,
     "start_time": "2025-01-28T09:25:51.543967",
     "status": "completed"
    },
    "tags": []
   },
   "outputs": [
    {
     "data": {
      "text/html": [
       "<div>\n",
       "<style scoped>\n",
       "    .dataframe tbody tr th:only-of-type {\n",
       "        vertical-align: middle;\n",
       "    }\n",
       "\n",
       "    .dataframe tbody tr th {\n",
       "        vertical-align: top;\n",
       "    }\n",
       "\n",
       "    .dataframe thead th {\n",
       "        text-align: right;\n",
       "    }\n",
       "</style>\n",
       "<table border=\"1\" class=\"dataframe\">\n",
       "  <thead>\n",
       "    <tr style=\"text-align: right;\">\n",
       "      <th></th>\n",
       "      <th>PREGNANCIES</th>\n",
       "      <th>GLUCOSE</th>\n",
       "      <th>BLOODPRESSURE</th>\n",
       "      <th>SKINTHICKNESS</th>\n",
       "      <th>INSULIN</th>\n",
       "      <th>BMI</th>\n",
       "      <th>DIABETESPEDIGREEFUNCTION</th>\n",
       "      <th>AGE</th>\n",
       "      <th>OUTCOME</th>\n",
       "      <th>NEW_AGE_CAT</th>\n",
       "      <th>NEW_INSULIN_SCORE</th>\n",
       "      <th>NEW_GLUCOSE*INSULIN</th>\n",
       "      <th>NEW_GLUCOSE*PREGNANCIES</th>\n",
       "      <th>NEW_BMI_Healthy</th>\n",
       "      <th>NEW_BMI_Overweight</th>\n",
       "      <th>NEW_BMI_Obese</th>\n",
       "      <th>NEW_AGE_BMI_NOM_obesesenior</th>\n",
       "      <th>NEW_AGE_BMI_NOM_underweightmature</th>\n",
       "      <th>NEW_AGE_GLUCOSE_NOM_hiddensenior</th>\n",
       "      <th>NEW_AGE_GLUCOSE_NOM_highmature</th>\n",
       "      <th>NEW_AGE_GLUCOSE_NOM_highsenior</th>\n",
       "      <th>NEW_AGE_GLUCOSE_NOM_lowmature</th>\n",
       "      <th>NEW_AGE_GLUCOSE_NOM_lowsenior</th>\n",
       "      <th>NEW_AGE_GLUCOSE_NOM_normalmature</th>\n",
       "      <th>NEW_AGE_GLUCOSE_NOM_normalsenior</th>\n",
       "    </tr>\n",
       "  </thead>\n",
       "  <tbody>\n",
       "    <tr>\n",
       "      <th>0</th>\n",
       "      <td>6</td>\n",
       "      <td>148.000</td>\n",
       "      <td>72.000</td>\n",
       "      <td>35.000</td>\n",
       "      <td>125.000</td>\n",
       "      <td>33.600</td>\n",
       "      <td>0.627</td>\n",
       "      <td>50</td>\n",
       "      <td>1</td>\n",
       "      <td>1</td>\n",
       "      <td>1</td>\n",
       "      <td>18500.000</td>\n",
       "      <td>888.000</td>\n",
       "      <td>0</td>\n",
       "      <td>0</td>\n",
       "      <td>1</td>\n",
       "      <td>1</td>\n",
       "      <td>0</td>\n",
       "      <td>0</td>\n",
       "      <td>0</td>\n",
       "      <td>1</td>\n",
       "      <td>0</td>\n",
       "      <td>0</td>\n",
       "      <td>0</td>\n",
       "      <td>0</td>\n",
       "    </tr>\n",
       "    <tr>\n",
       "      <th>1</th>\n",
       "      <td>1</td>\n",
       "      <td>85.000</td>\n",
       "      <td>66.000</td>\n",
       "      <td>29.000</td>\n",
       "      <td>125.000</td>\n",
       "      <td>26.600</td>\n",
       "      <td>0.351</td>\n",
       "      <td>31</td>\n",
       "      <td>0</td>\n",
       "      <td>0</td>\n",
       "      <td>1</td>\n",
       "      <td>10625.000</td>\n",
       "      <td>85.000</td>\n",
       "      <td>0</td>\n",
       "      <td>1</td>\n",
       "      <td>0</td>\n",
       "      <td>0</td>\n",
       "      <td>0</td>\n",
       "      <td>0</td>\n",
       "      <td>0</td>\n",
       "      <td>0</td>\n",
       "      <td>0</td>\n",
       "      <td>0</td>\n",
       "      <td>1</td>\n",
       "      <td>0</td>\n",
       "    </tr>\n",
       "    <tr>\n",
       "      <th>2</th>\n",
       "      <td>8</td>\n",
       "      <td>183.000</td>\n",
       "      <td>64.000</td>\n",
       "      <td>29.000</td>\n",
       "      <td>125.000</td>\n",
       "      <td>23.300</td>\n",
       "      <td>0.672</td>\n",
       "      <td>32</td>\n",
       "      <td>1</td>\n",
       "      <td>0</td>\n",
       "      <td>1</td>\n",
       "      <td>22875.000</td>\n",
       "      <td>1464.000</td>\n",
       "      <td>1</td>\n",
       "      <td>0</td>\n",
       "      <td>0</td>\n",
       "      <td>0</td>\n",
       "      <td>0</td>\n",
       "      <td>0</td>\n",
       "      <td>1</td>\n",
       "      <td>0</td>\n",
       "      <td>0</td>\n",
       "      <td>0</td>\n",
       "      <td>0</td>\n",
       "      <td>0</td>\n",
       "    </tr>\n",
       "    <tr>\n",
       "      <th>3</th>\n",
       "      <td>1</td>\n",
       "      <td>89.000</td>\n",
       "      <td>66.000</td>\n",
       "      <td>23.000</td>\n",
       "      <td>94.000</td>\n",
       "      <td>28.100</td>\n",
       "      <td>0.167</td>\n",
       "      <td>21</td>\n",
       "      <td>0</td>\n",
       "      <td>0</td>\n",
       "      <td>1</td>\n",
       "      <td>8366.000</td>\n",
       "      <td>89.000</td>\n",
       "      <td>0</td>\n",
       "      <td>1</td>\n",
       "      <td>0</td>\n",
       "      <td>0</td>\n",
       "      <td>0</td>\n",
       "      <td>0</td>\n",
       "      <td>0</td>\n",
       "      <td>0</td>\n",
       "      <td>0</td>\n",
       "      <td>0</td>\n",
       "      <td>1</td>\n",
       "      <td>0</td>\n",
       "    </tr>\n",
       "    <tr>\n",
       "      <th>4</th>\n",
       "      <td>0</td>\n",
       "      <td>137.000</td>\n",
       "      <td>40.000</td>\n",
       "      <td>35.000</td>\n",
       "      <td>168.000</td>\n",
       "      <td>43.100</td>\n",
       "      <td>2.288</td>\n",
       "      <td>33</td>\n",
       "      <td>1</td>\n",
       "      <td>0</td>\n",
       "      <td>0</td>\n",
       "      <td>23016.000</td>\n",
       "      <td>0.000</td>\n",
       "      <td>0</td>\n",
       "      <td>0</td>\n",
       "      <td>1</td>\n",
       "      <td>0</td>\n",
       "      <td>0</td>\n",
       "      <td>0</td>\n",
       "      <td>1</td>\n",
       "      <td>0</td>\n",
       "      <td>0</td>\n",
       "      <td>0</td>\n",
       "      <td>0</td>\n",
       "      <td>0</td>\n",
       "    </tr>\n",
       "  </tbody>\n",
       "</table>\n",
       "</div>"
      ],
      "text/plain": [
       "   PREGNANCIES  GLUCOSE  BLOODPRESSURE  SKINTHICKNESS  INSULIN    BMI  \\\n",
       "0            6  148.000         72.000         35.000  125.000 33.600   \n",
       "1            1   85.000         66.000         29.000  125.000 26.600   \n",
       "2            8  183.000         64.000         29.000  125.000 23.300   \n",
       "3            1   89.000         66.000         23.000   94.000 28.100   \n",
       "4            0  137.000         40.000         35.000  168.000 43.100   \n",
       "\n",
       "   DIABETESPEDIGREEFUNCTION  AGE  OUTCOME  NEW_AGE_CAT  NEW_INSULIN_SCORE  \\\n",
       "0                     0.627   50        1            1                  1   \n",
       "1                     0.351   31        0            0                  1   \n",
       "2                     0.672   32        1            0                  1   \n",
       "3                     0.167   21        0            0                  1   \n",
       "4                     2.288   33        1            0                  0   \n",
       "\n",
       "   NEW_GLUCOSE*INSULIN  NEW_GLUCOSE*PREGNANCIES  NEW_BMI_Healthy  \\\n",
       "0            18500.000                  888.000                0   \n",
       "1            10625.000                   85.000                0   \n",
       "2            22875.000                 1464.000                1   \n",
       "3             8366.000                   89.000                0   \n",
       "4            23016.000                    0.000                0   \n",
       "\n",
       "   NEW_BMI_Overweight  NEW_BMI_Obese  NEW_AGE_BMI_NOM_obesesenior  \\\n",
       "0                   0              1                            1   \n",
       "1                   1              0                            0   \n",
       "2                   0              0                            0   \n",
       "3                   1              0                            0   \n",
       "4                   0              1                            0   \n",
       "\n",
       "   NEW_AGE_BMI_NOM_underweightmature  NEW_AGE_GLUCOSE_NOM_hiddensenior  \\\n",
       "0                                  0                                 0   \n",
       "1                                  0                                 0   \n",
       "2                                  0                                 0   \n",
       "3                                  0                                 0   \n",
       "4                                  0                                 0   \n",
       "\n",
       "   NEW_AGE_GLUCOSE_NOM_highmature  NEW_AGE_GLUCOSE_NOM_highsenior  \\\n",
       "0                               0                               1   \n",
       "1                               0                               0   \n",
       "2                               1                               0   \n",
       "3                               0                               0   \n",
       "4                               1                               0   \n",
       "\n",
       "   NEW_AGE_GLUCOSE_NOM_lowmature  NEW_AGE_GLUCOSE_NOM_lowsenior  \\\n",
       "0                              0                              0   \n",
       "1                              0                              0   \n",
       "2                              0                              0   \n",
       "3                              0                              0   \n",
       "4                              0                              0   \n",
       "\n",
       "   NEW_AGE_GLUCOSE_NOM_normalmature  NEW_AGE_GLUCOSE_NOM_normalsenior  \n",
       "0                                 0                                 0  \n",
       "1                                 1                                 0  \n",
       "2                                 0                                 0  \n",
       "3                                 1                                 0  \n",
       "4                                 0                                 0  "
      ]
     },
     "execution_count": 47,
     "metadata": {},
     "output_type": "execute_result"
    }
   ],
   "source": [
    "df.head()"
   ]
  },
  {
   "cell_type": "markdown",
   "id": "64f292d0",
   "metadata": {
    "id": "Kigg2WLJ2IsH",
    "papermill": {
     "duration": 0.022226,
     "end_time": "2025-01-28T09:25:51.639331",
     "exception": false,
     "start_time": "2025-01-28T09:25:51.617105",
     "status": "completed"
    },
    "tags": []
   },
   "source": [
    "# Modeling"
   ]
  },
  {
   "cell_type": "code",
   "execution_count": null,
   "id": "d40e254f",
   "metadata": {
    "id": "PHNF8x-20wuv",
    "outputId": "89a481cc-6d7b-4cd4-e46a-faec6b7770f0",
    "papermill": {
     "duration": 0.022773,
     "end_time": "2025-01-28T09:25:51.684423",
     "exception": false,
     "start_time": "2025-01-28T09:25:51.661650",
     "status": "completed"
    },
    "tags": []
   },
   "outputs": [],
   "source": []
  },
  {
   "cell_type": "code",
   "execution_count": 48,
   "id": "6edfd28b",
   "metadata": {
    "execution": {
     "iopub.execute_input": "2025-01-28T09:25:51.731586Z",
     "iopub.status.busy": "2025-01-28T09:25:51.731160Z",
     "iopub.status.idle": "2025-01-28T09:26:04.415444Z",
     "shell.execute_reply": "2025-01-28T09:26:04.413746Z"
    },
    "id": "PMIQVrLq2VLq",
    "papermill": {
     "duration": 12.710919,
     "end_time": "2025-01-28T09:26:04.418588",
     "exception": false,
     "start_time": "2025-01-28T09:25:51.707669",
     "status": "completed"
    },
    "tags": []
   },
   "outputs": [
    {
     "name": "stdout",
     "output_type": "stream",
     "text": [
      "Epoch 1/20\n",
      "14/14 [==============================] - 7s 86ms/step - loss: 0.6804 - accuracy: 0.6317 - val_loss: 0.6538 - val_accuracy: 0.6759\n",
      "Epoch 2/20\n",
      "14/14 [==============================] - 0s 13ms/step - loss: 0.6209 - accuracy: 0.6457 - val_loss: 0.5529 - val_accuracy: 0.6759\n",
      "Epoch 3/20\n",
      "14/14 [==============================] - 0s 13ms/step - loss: 0.5444 - accuracy: 0.6457 - val_loss: 0.4900 - val_accuracy: 0.6852\n",
      "Epoch 4/20\n",
      "14/14 [==============================] - 0s 16ms/step - loss: 0.5005 - accuracy: 0.7273 - val_loss: 0.4799 - val_accuracy: 0.7685\n",
      "Epoch 5/20\n",
      "14/14 [==============================] - 0s 16ms/step - loss: 0.4698 - accuracy: 0.7692 - val_loss: 0.4780 - val_accuracy: 0.7870\n",
      "Epoch 6/20\n",
      "14/14 [==============================] - 0s 15ms/step - loss: 0.4514 - accuracy: 0.7832 - val_loss: 0.5076 - val_accuracy: 0.7593\n",
      "Epoch 7/20\n",
      "14/14 [==============================] - 0s 15ms/step - loss: 0.4511 - accuracy: 0.7879 - val_loss: 0.5044 - val_accuracy: 0.7593\n",
      "Epoch 8/20\n",
      "14/14 [==============================] - 0s 21ms/step - loss: 0.4185 - accuracy: 0.8019 - val_loss: 0.5198 - val_accuracy: 0.7778\n",
      "Epoch 9/20\n",
      "14/14 [==============================] - 0s 15ms/step - loss: 0.4279 - accuracy: 0.8089 - val_loss: 0.5332 - val_accuracy: 0.7500\n",
      "Epoch 10/20\n",
      "14/14 [==============================] - 0s 15ms/step - loss: 0.3993 - accuracy: 0.8275 - val_loss: 0.5402 - val_accuracy: 0.7593\n",
      "Epoch 11/20\n",
      "14/14 [==============================] - 0s 17ms/step - loss: 0.4111 - accuracy: 0.8228 - val_loss: 0.5411 - val_accuracy: 0.7778\n",
      "Epoch 12/20\n",
      "14/14 [==============================] - 0s 14ms/step - loss: 0.3966 - accuracy: 0.8322 - val_loss: 0.5582 - val_accuracy: 0.7685\n",
      "Epoch 13/20\n",
      "14/14 [==============================] - 0s 14ms/step - loss: 0.3853 - accuracy: 0.8345 - val_loss: 0.5510 - val_accuracy: 0.7870\n",
      "Epoch 14/20\n",
      "14/14 [==============================] - 0s 14ms/step - loss: 0.3786 - accuracy: 0.8275 - val_loss: 0.5627 - val_accuracy: 0.7593\n",
      "Epoch 15/20\n",
      "14/14 [==============================] - 0s 13ms/step - loss: 0.3612 - accuracy: 0.8485 - val_loss: 0.5673 - val_accuracy: 0.7778\n",
      "Epoch 16/20\n",
      "14/14 [==============================] - 0s 13ms/step - loss: 0.3813 - accuracy: 0.8298 - val_loss: 0.5811 - val_accuracy: 0.7593\n",
      "Epoch 17/20\n",
      "14/14 [==============================] - 0s 13ms/step - loss: 0.3633 - accuracy: 0.8485 - val_loss: 0.5844 - val_accuracy: 0.7685\n",
      "Epoch 18/20\n",
      "14/14 [==============================] - 0s 13ms/step - loss: 0.3420 - accuracy: 0.8601 - val_loss: 0.6065 - val_accuracy: 0.7778\n",
      "Epoch 19/20\n",
      "14/14 [==============================] - 0s 14ms/step - loss: 0.3475 - accuracy: 0.8438 - val_loss: 0.6382 - val_accuracy: 0.7500\n",
      "Epoch 20/20\n",
      "14/14 [==============================] - 0s 14ms/step - loss: 0.3556 - accuracy: 0.8601 - val_loss: 0.6404 - val_accuracy: 0.7315\n",
      "Accuracy: 0.73\n",
      "Recall: 0.64\n",
      "Precision: 0.6\n",
      "F1: 0.62\n",
      "AUC: 0.82\n"
     ]
    }
   ],
   "source": [
    "import numpy as np\n",
    "import pandas as pd\n",
    "from sklearn.model_selection import train_test_split\n",
    "from sklearn.preprocessing import StandardScaler\n",
    "from sklearn.metrics import (\n",
    "    accuracy_score, \n",
    "    recall_score, \n",
    "    precision_score, \n",
    "    f1_score, \n",
    "    roc_auc_score\n",
    ")\n",
    "from tensorflow.keras.models import Sequential\n",
    "from tensorflow.keras.layers import LSTM, Dense, Bidirectional, Dropout\n",
    "from tensorflow.keras.utils import to_categorical\n",
    "\n",
    "# Assuming 'df' is your dataset and 'OUTCOME' is the target column\n",
    "# Replace this with your actual dataset loading logic\n",
    "# Example: df = pd.read_csv('your_dataset.csv')\n",
    "\n",
    "# Splitting the data into features and target\n",
    "y = df[\"OUTCOME\"]\n",
    "X = df.drop(\"OUTCOME\", axis=1)\n",
    "\n",
    "# Check and handle missing values or invalid values in the dataset\n",
    "if X.isnull().values.any() or y.isnull().values.any():\n",
    "    print(\"Dataset contains NaN values. Cleaning data...\")\n",
    "    X = X.fillna(0)\n",
    "    y = y.fillna(0)\n",
    "\n",
    "# Standardizing the data (important for BiLSTM)\n",
    "scaler = StandardScaler()\n",
    "X_scaled = scaler.fit_transform(X)\n",
    "\n",
    "# Reshaping the data to be 3D: [samples, timesteps, features]\n",
    "X_scaled = np.reshape(X_scaled, (X_scaled.shape[0], 1, X_scaled.shape[1]))  # 1 timestep for each sample\n",
    "\n",
    "# Train-Test Split\n",
    "X_train, X_test, y_train, y_test = train_test_split(X_scaled, y, test_size=0.30, random_state=17)\n",
    "\n",
    "# Convert the labels to categorical (for binary classification)\n",
    "y_train_cat = to_categorical(y_train)\n",
    "y_test_cat = to_categorical(y_test)\n",
    "\n",
    "# Building the Enhanced BiLSTM Model\n",
    "model = Sequential([\n",
    "    # Bidirectional LSTM layer\n",
    "    Bidirectional(LSTM(units=128, activation='relu', return_sequences=True), \n",
    "                  input_shape=(X_train.shape[1], X_train.shape[2])),\n",
    "    Dropout(0.3),  # Add dropout for regularization\n",
    "\n",
    "    # Additional LSTM layer\n",
    "    Bidirectional(LSTM(units=64, activation='relu', return_sequences=False)),\n",
    "    Dropout(0.3),  # Add another dropout layer\n",
    "\n",
    "    # Fully connected dense layers\n",
    "    Dense(units=128, activation='relu'),\n",
    "    Dropout(0.3),  # Regularization\n",
    "    Dense(units=64, activation='relu'),\n",
    "    Dropout(0.2),  # Regularization\n",
    "    Dense(units=32, activation='relu'),\n",
    "\n",
    "    # Output layer\n",
    "    Dense(units=2, activation='softmax')  # Output layer for binary classification\n",
    "])\n",
    "\n",
    "# Compiling the model\n",
    "model.compile(optimizer='adam', loss='categorical_crossentropy', metrics=['accuracy'])\n",
    "\n",
    "# Training the model\n",
    "history = model.fit(X_train, y_train_cat, epochs=20, batch_size=32, verbose=1, validation_split=0.2)\n",
    "\n",
    "# Predicting with the model\n",
    "y_pred_prob = model.predict(X_test)\n",
    "\n",
    "# Check for NaN or infinity in predictions\n",
    "if np.isnan(y_pred_prob).any() or np.isinf(y_pred_prob).any():\n",
    "    print(\"Predicted probabilities contain NaN or infinity values. Fixing data...\")\n",
    "    y_pred_prob = np.nan_to_num(y_pred_prob, nan=0.5, posinf=1, neginf=0)  # Replace invalid values\n",
    "\n",
    "y_pred = np.argmax(y_pred_prob, axis=1)  # Convert probabilities to class labels\n",
    "\n",
    "# Evaluating the model\n",
    "print(f\"Accuracy: {round(accuracy_score(y_test, y_pred), 2)}\")\n",
    "print(f\"Recall: {round(recall_score(y_test, y_pred), 2)}\")\n",
    "print(f\"Precision: {round(precision_score(y_test, y_pred), 2)}\")\n",
    "print(f\"F1: {round(f1_score(y_test, y_pred), 2)}\")\n",
    "print(f\"AUC: {round(roc_auc_score(y_test, y_pred_prob[:, 1]), 2)}\")  # AUC using probabilities for class 1\n"
   ]
  },
  {
   "cell_type": "code",
   "execution_count": null,
   "id": "0162c482",
   "metadata": {
    "id": "CgrNwAJi2gEi",
    "outputId": "cf8b1d77-ac5c-46b9-ae7b-4b969928cb23",
    "papermill": {
     "duration": 0.02789,
     "end_time": "2025-01-28T09:26:04.473815",
     "exception": false,
     "start_time": "2025-01-28T09:26:04.445925",
     "status": "completed"
    },
    "tags": []
   },
   "outputs": [],
   "source": []
  }
 ],
 "metadata": {
  "kaggle": {
   "accelerator": "none",
   "dataSources": [
    {
     "datasetId": 228,
     "sourceId": 482,
     "sourceType": "datasetVersion"
    }
   ],
   "dockerImageVersionId": 30301,
   "isGpuEnabled": false,
   "isInternetEnabled": false,
   "language": "python",
   "sourceType": "notebook"
  },
  "kernelspec": {
   "display_name": "Python 3",
   "language": "python",
   "name": "python3"
  },
  "language_info": {
   "codemirror_mode": {
    "name": "ipython",
    "version": 3
   },
   "file_extension": ".py",
   "mimetype": "text/x-python",
   "name": "python",
   "nbconvert_exporter": "python",
   "pygments_lexer": "ipython3",
   "version": "3.7.12"
  },
  "papermill": {
   "default_parameters": {},
   "duration": 92.851353,
   "end_time": "2025-01-28T09:26:07.347770",
   "environment_variables": {},
   "exception": null,
   "input_path": "__notebook__.ipynb",
   "output_path": "__notebook__.ipynb",
   "parameters": {},
   "start_time": "2025-01-28T09:24:34.496417",
   "version": "2.3.4"
  }
 },
 "nbformat": 4,
 "nbformat_minor": 5
}
